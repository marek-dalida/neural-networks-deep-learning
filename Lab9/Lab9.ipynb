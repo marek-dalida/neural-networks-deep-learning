{
 "cells": [
  {
   "cell_type": "markdown",
   "id": "encouraging-bedroom",
   "metadata": {},
   "source": [
    "## Task 1: Image classification with CNN on Fashion MNIST dataset"
   ]
  },
  {
   "cell_type": "code",
   "execution_count": 1,
   "id": "constant-virtue",
   "metadata": {},
   "outputs": [],
   "source": [
    "import tensorflow as tf\n",
    "from tensorflow.keras import datasets, layers, models\n",
    "\n",
    "import numpy as np\n",
    "from numpy.lib.stride_tricks import as_strided\n",
    "\n",
    "from sklearn.model_selection import train_test_split\n",
    "from sklearn.metrics import confusion_matrix, ConfusionMatrixDisplay\n",
    "import pandas as pd\n",
    "import seaborn as sn\n",
    "import matplotlib.pyplot as plt\n",
    "\n",
    "(x_train, y_train), (x_test, y_test) = tf.keras.datasets.fashion_mnist.load_data()"
   ]
  },
  {
   "cell_type": "code",
   "execution_count": 2,
   "id": "sharp-muslim",
   "metadata": {},
   "outputs": [],
   "source": [
    "# divide train into train and val\n",
    "x_train, x_val, y_train, y_val = train_test_split(x_train, y_train, test_size=0.2, random_state=42)"
   ]
  },
  {
   "cell_type": "code",
   "execution_count": 3,
   "id": "shaped-ministry",
   "metadata": {},
   "outputs": [
    {
     "name": "stdout",
     "output_type": "stream",
     "text": [
      "train data shape:  (48000, 28, 28)\n",
      "train target shape:  (48000,)\n",
      "validation data shape:  (12000, 28, 28)\n",
      "validation target shape:  (12000,)\n",
      "test data shape:  (10000, 28, 28)\n",
      "test target shape:  (10000,)\n"
     ]
    }
   ],
   "source": [
    "#data shape \n",
    "\n",
    "print(\"train data shape: \", x_train.shape)\n",
    "print(\"train target shape: \", y_train.shape)\n",
    "\n",
    "print(\"validation data shape: \", x_val.shape)\n",
    "print(\"validation target shape: \", y_val.shape)\n",
    "\n",
    "print(\"test data shape: \", x_test.shape)\n",
    "print(\"test target shape: \", y_test.shape)"
   ]
  },
  {
   "cell_type": "code",
   "execution_count": 4,
   "id": "imposed-specific",
   "metadata": {},
   "outputs": [
    {
     "data": {
      "image/png": "[encoded data removed]",
      "text/plain": [
       "<Figure size 1440x1440 with 10 Axes>"
      ]
     },
     "metadata": {},
     "output_type": "display_data"
    }
   ],
   "source": [
    "def overview(start, end, X):\n",
    "    fig = plt.figure(figsize=(20,20))\n",
    "    for i in range(start, end):\n",
    "        ax = fig.add_subplot(10,10,i+1)\n",
    "        ax.imshow(X[i], cmap='gray')\n",
    "        plt.xticks(np.array([]))\n",
    "        plt.yticks(np.array([]))\n",
    "        plt.tight_layout()\n",
    "    plt.show()\n",
    "    \n",
    "    \n",
    "overview(0, 10, x_train)"
   ]
  },
  {
   "cell_type": "markdown",
   "id": "binary-separate",
   "metadata": {},
   "source": [
    "Data preprocessing"
   ]
  },
  {
   "cell_type": "code",
   "execution_count": 5,
   "id": "early-apollo",
   "metadata": {},
   "outputs": [
    {
     "name": "stdout",
     "output_type": "stream",
     "text": [
      "train data shape:  (48000, 28, 28, 1)\n",
      "validation data shape:  (12000, 28, 28, 1)\n",
      "test data shape:  (10000, 28, 28, 1)\n"
     ]
    }
   ],
   "source": [
    "x_train = np.expand_dims(x_train, -1)\n",
    "x_val = np.expand_dims(x_val, -1)\n",
    "x_test = np.expand_dims(x_test, -1)\n",
    "\n",
    "print(\"train data shape: \", x_train.shape)\n",
    "print(\"validation data shape: \", x_val.shape)\n",
    "print(\"test data shape: \", x_test.shape)"
   ]
  },
  {
   "cell_type": "markdown",
   "id": "tracked-oxford",
   "metadata": {},
   "source": [
    "Normalizing data"
   ]
  },
  {
   "cell_type": "code",
   "execution_count": 6,
   "id": "connected-trauma",
   "metadata": {},
   "outputs": [],
   "source": [
    "x_train_norm = x_train.astype('float32')\n",
    "x_val_norm = x_val.astype('float32')\n",
    "x_test_norm = x_test.astype('float32')\n",
    "\n",
    "x_train_norm /= 255.\n",
    "x_val_norm /= 255.\n",
    "x_test_norm /= 255."
   ]
  },
  {
   "cell_type": "code",
   "execution_count": 7,
   "id": "entitled-malta",
   "metadata": {},
   "outputs": [],
   "source": [
    "from tensorflow.keras.utils import to_categorical \n",
    "\n",
    "num_labels = 10\n",
    "y_train = to_categorical(y_train, num_labels)\n",
    "y_val = to_categorical(y_val, num_labels)\n",
    "y_test = to_categorical(y_test, num_labels)"
   ]
  },
  {
   "cell_type": "code",
   "execution_count": 8,
   "id": "dietary-darwin",
   "metadata": {},
   "outputs": [],
   "source": [
    "image_size=28\n",
    "num_epochs=25\n",
    "\n",
    "\n",
    "model = models.Sequential()\n",
    "\n",
    "model.add(layers.Conv2D(64, (2, 2), padding='same', activation='relu',\n",
    "                 input_shape=(image_size, image_size, 1)))\n",
    "\n",
    "model.add(layers.MaxPooling2D(pool_size=(2, 2), strides=(2, 2)))\n",
    "\n",
    "model.add(layers.Conv2D(32, (2, 2), padding='same', activation='relu',\n",
    "                 input_shape=(image_size, image_size, 1)))\n",
    "\n",
    "model.add(layers.MaxPooling2D(pool_size=(2, 2), strides=(2, 2)))\n",
    "\n",
    "model.add(layers.Flatten())\n",
    "\n",
    "model.add(layers.Dense(256))\n",
    "model.add(layers.Activation('relu'))\n",
    "\n",
    "model.add(layers.Dense(num_labels))\n",
    "model.add(layers.Activation('softmax'))"
   ]
  },
  {
   "cell_type": "code",
   "execution_count": 9,
   "id": "excessive-above",
   "metadata": {},
   "outputs": [
    {
     "name": "stdout",
     "output_type": "stream",
     "text": [
      "Model: \"sequential\"\n",
      "_________________________________________________________________\n",
      "Layer (type)                 Output Shape              Param #   \n",
      "=================================================================\n",
      "conv2d (Conv2D)              (None, 28, 28, 64)        320       \n",
      "_________________________________________________________________\n",
      "max_pooling2d (MaxPooling2D) (None, 14, 14, 64)        0         \n",
      "_________________________________________________________________\n",
      "conv2d_1 (Conv2D)            (None, 14, 14, 32)        8224      \n",
      "_________________________________________________________________\n",
      "max_pooling2d_1 (MaxPooling2 (None, 7, 7, 32)          0         \n",
      "_________________________________________________________________\n",
      "flatten (Flatten)            (None, 1568)              0         \n",
      "_________________________________________________________________\n",
      "dense (Dense)                (None, 256)               401664    \n",
      "_________________________________________________________________\n",
      "activation (Activation)      (None, 256)               0         \n",
      "_________________________________________________________________\n",
      "dense_1 (Dense)              (None, 10)                2570      \n",
      "_________________________________________________________________\n",
      "activation_1 (Activation)    (None, 10)                0         \n",
      "=================================================================\n",
      "Total params: 412,778\n",
      "Trainable params: 412,778\n",
      "Non-trainable params: 0\n",
      "_________________________________________________________________\n"
     ]
    }
   ],
   "source": [
    "model.summary()"
   ]
  },
  {
   "cell_type": "code",
   "execution_count": 10,
   "id": "rough-carol",
   "metadata": {},
   "outputs": [
    {
     "name": "stdout",
     "output_type": "stream",
     "text": [
      "Epoch 1/25\n",
      "1500/1500 [==============================] - 9s 5ms/step - loss: 0.4335 - accuracy: 0.8437 - val_loss: 0.3141 - val_accuracy: 0.8835\n",
      "Epoch 2/25\n",
      "1500/1500 [==============================] - 7s 5ms/step - loss: 0.2910 - accuracy: 0.8928 - val_loss: 0.2787 - val_accuracy: 0.8943\n",
      "Epoch 3/25\n",
      "1500/1500 [==============================] - 7s 5ms/step - loss: 0.2464 - accuracy: 0.9085 - val_loss: 0.2495 - val_accuracy: 0.9077\n",
      "Epoch 4/25\n",
      "1500/1500 [==============================] - 7s 5ms/step - loss: 0.2133 - accuracy: 0.9208 - val_loss: 0.2352 - val_accuracy: 0.9132\n",
      "Epoch 5/25\n",
      "1500/1500 [==============================] - 8s 5ms/step - loss: 0.1887 - accuracy: 0.9298 - val_loss: 0.2390 - val_accuracy: 0.9112\n",
      "Epoch 6/25\n",
      "1500/1500 [==============================] - 7s 5ms/step - loss: 0.1639 - accuracy: 0.9384 - val_loss: 0.2421 - val_accuracy: 0.9137\n",
      "Epoch 7/25\n",
      "1500/1500 [==============================] - 8s 5ms/step - loss: 0.1418 - accuracy: 0.9469 - val_loss: 0.2443 - val_accuracy: 0.9164\n",
      "Epoch 8/25\n",
      "1500/1500 [==============================] - 7s 5ms/step - loss: 0.1215 - accuracy: 0.9550 - val_loss: 0.2476 - val_accuracy: 0.9131\n",
      "Epoch 9/25\n",
      "1500/1500 [==============================] - 7s 5ms/step - loss: 0.1036 - accuracy: 0.9615 - val_loss: 0.2723 - val_accuracy: 0.9139\n",
      "Epoch 10/25\n",
      "1500/1500 [==============================] - 7s 5ms/step - loss: 0.0872 - accuracy: 0.9671 - val_loss: 0.2887 - val_accuracy: 0.9109\n",
      "Epoch 11/25\n",
      "1500/1500 [==============================] - 8s 5ms/step - loss: 0.0732 - accuracy: 0.9740 - val_loss: 0.2995 - val_accuracy: 0.9182\n",
      "Epoch 12/25\n",
      "1500/1500 [==============================] - 8s 5ms/step - loss: 0.0598 - accuracy: 0.9784 - val_loss: 0.3400 - val_accuracy: 0.9095\n",
      "Epoch 13/25\n",
      "1500/1500 [==============================] - 8s 5ms/step - loss: 0.0522 - accuracy: 0.9801 - val_loss: 0.3418 - val_accuracy: 0.9154\n",
      "Epoch 14/25\n",
      "1500/1500 [==============================] - 7s 5ms/step - loss: 0.0414 - accuracy: 0.9849 - val_loss: 0.3689 - val_accuracy: 0.9168\n",
      "Epoch 15/25\n",
      "1500/1500 [==============================] - 7s 5ms/step - loss: 0.0363 - accuracy: 0.9862 - val_loss: 0.4117 - val_accuracy: 0.9125\n",
      "Epoch 16/25\n",
      "1500/1500 [==============================] - 7s 5ms/step - loss: 0.0336 - accuracy: 0.9881 - val_loss: 0.4387 - val_accuracy: 0.9126\n",
      "Epoch 17/25\n",
      "1500/1500 [==============================] - 7s 5ms/step - loss: 0.0291 - accuracy: 0.9895 - val_loss: 0.4376 - val_accuracy: 0.9137\n",
      "Epoch 18/25\n",
      "1500/1500 [==============================] - 7s 5ms/step - loss: 0.0261 - accuracy: 0.9908 - val_loss: 0.4686 - val_accuracy: 0.9133\n",
      "Epoch 19/25\n",
      "1500/1500 [==============================] - 7s 5ms/step - loss: 0.0230 - accuracy: 0.9923 - val_loss: 0.4717 - val_accuracy: 0.9138\n",
      "Epoch 20/25\n",
      "1500/1500 [==============================] - 7s 5ms/step - loss: 0.0221 - accuracy: 0.9921 - val_loss: 0.4934 - val_accuracy: 0.9100\n",
      "Epoch 21/25\n",
      "1500/1500 [==============================] - 8s 5ms/step - loss: 0.0231 - accuracy: 0.9918 - val_loss: 0.5096 - val_accuracy: 0.9127\n",
      "Epoch 22/25\n",
      "1500/1500 [==============================] - 8s 6ms/step - loss: 0.0176 - accuracy: 0.9940 - val_loss: 0.5191 - val_accuracy: 0.9147\n",
      "Epoch 23/25\n",
      "1500/1500 [==============================] - 8s 5ms/step - loss: 0.0195 - accuracy: 0.9931 - val_loss: 0.5861 - val_accuracy: 0.9116\n",
      "Epoch 24/25\n",
      "1500/1500 [==============================] - 10s 6ms/step - loss: 0.0189 - accuracy: 0.9935 - val_loss: 0.5651 - val_accuracy: 0.9131\n",
      "Epoch 25/25\n",
      "1500/1500 [==============================] - 7s 5ms/step - loss: 0.0165 - accuracy: 0.9942 - val_loss: 0.6003 - val_accuracy: 0.9143\n"
     ]
    }
   ],
   "source": [
    "model.compile(optimizer='adam', loss='categorical_crossentropy',  metrics=['accuracy'])\n",
    "\n",
    "run_hist = model.fit(\n",
    "    np.array(x_train_norm), np.array(y_train),\n",
    "    epochs=num_epochs, \n",
    "    validation_data=(np.array(x_val_norm), np.array(y_val)))"
   ]
  },
  {
   "cell_type": "code",
   "execution_count": 11,
   "id": "helpful-petroleum",
   "metadata": {},
   "outputs": [
    {
     "data": {
      "image/png": "[encoded data removed]",
      "text/plain": [
       "<Figure size 432x288 with 1 Axes>"
      ]
     },
     "metadata": {
      "needs_background": "light"
     },
     "output_type": "display_data"
    }
   ],
   "source": [
    "import matplotlib.pyplot as plt\n",
    "\n",
    "loss_values = run_hist.history[\"loss\"]\n",
    "validation_loss_val = run_hist.history[\"val_loss\"]\n",
    "\n",
    "epochs = range(1, num_epochs+1)\n",
    "\n",
    "plt.plot(epochs, loss_values, 'b', label='Training loss')\n",
    "plt.plot(epochs, validation_loss_val, 'r', label='Validation loss')\n",
    "plt.title('Training and validation loss')\n",
    "plt.xlabel('Epochs')\n",
    "plt.ylabel('Loss')\n",
    "plt.legend()\n",
    "plt.show()"
   ]
  },
  {
   "cell_type": "code",
   "execution_count": 12,
   "id": "lasting-lightning",
   "metadata": {},
   "outputs": [
    {
     "data": {
      "image/png": "[encoded data removed]",
      "text/plain": [
       "<Figure size 432x288 with 1 Axes>"
      ]
     },
     "metadata": {
      "needs_background": "light"
     },
     "output_type": "display_data"
    }
   ],
   "source": [
    "train_acc = run_hist.history['accuracy']\n",
    "validation_acc = run_hist.history[\"val_accuracy\"]\n",
    "\n",
    "plt.plot(epochs, train_acc, 'b', label='Training accuracy')\n",
    "plt.plot(epochs, validation_acc, 'r', label='Validation accuracy')\n",
    "plt.title('Training and validation accuracy')\n",
    "plt.xlabel('Epochs')\n",
    "plt.ylabel('Accuracy')\n",
    "plt.legend()\n",
    "plt.show()"
   ]
  },
  {
   "cell_type": "code",
   "execution_count": 13,
   "id": "intense-paste",
   "metadata": {},
   "outputs": [
    {
     "name": "stdout",
     "output_type": "stream",
     "text": [
      "157/157 [==============================] - 1s 4ms/step - loss: 0.6529 - accuracy: 0.9116\n",
      "[0.6529476642608643, 0.9115999937057495]\n",
      "Loss: 0.6529476642608643\n",
      "Accuracy: 0.9115999937057495\n"
     ]
    }
   ],
   "source": [
    "scores = model.evaluate(x_test_norm, y_test, batch_size=64)\n",
    "print(scores)\n",
    "print(\"Loss: \" + str(scores[0]))\n",
    "print(\"Accuracy: \" + str(scores[1]))"
   ]
  },
  {
   "cell_type": "code",
   "execution_count": 14,
   "id": "compact-massage",
   "metadata": {},
   "outputs": [
    {
     "data": {
      "text/plain": [
       "[Text(0.5, 123.0, 'Predicted label'), Text(168.0, 0.5, 'True label')]"
      ]
     },
     "execution_count": 14,
     "metadata": {},
     "output_type": "execute_result"
    },
    {
     "data": {
      "image/png": "[encoded data removed]",
      "text/plain": [
       "<Figure size 1512x1152 with 2 Axes>"
      ]
     },
     "metadata": {
      "needs_background": "light"
     },
     "output_type": "display_data"
    }
   ],
   "source": [
    "y_pred = [np.argmax(i) for i in model.predict(x_test_norm)]\n",
    "y_true = np.asarray([np.argmax(i) for i in y_test])\n",
    "\n",
    "cm = confusion_matrix(y_true, y_pred)\n",
    "df_cm = pd.DataFrame(cm)\n",
    "\n",
    "plt.figure(figsize = (21,16))\n",
    "ax = sn.heatmap(df_cm, cmap=\"Blues\")\n",
    "ax.set(xlabel='Predicted label', ylabel='True label')"
   ]
  },
  {
   "cell_type": "code",
   "execution_count": 15,
   "id": "optical-spine",
   "metadata": {},
   "outputs": [],
   "source": [
    "from tensorflow.keras.preprocessing.image import ImageDataGenerator\n",
    "\n",
    "datagen_train = ImageDataGenerator(\n",
    "    rotation_range=10,\n",
    "    width_shift_range=[-5, 5],\n",
    "    height_shift_range=[-5, 5],\n",
    "    horizontal_flip=True,\n",
    "    vertical_flip=True,\n",
    ")\n",
    "\n",
    "batch_size = 32\n",
    "\n",
    "datagen_val = ImageDataGenerator()\n",
    "datagen_test = ImageDataGenerator()\n",
    "\n",
    "num_train_batches = len(x_train) // batch_size\n",
    "num_train_batches += (0 if len(x_train) % batch_size == 0 else 1)     \n",
    "num_val_batches = len(x_val) // batch_size\n",
    "num_val_batches += (0 if len(x_val) % batch_size == 0 else 1)     \n",
    "num_test_batches = len(x_test) // batch_size\n",
    "num_test_batches += (0 if len(x_test) % batch_size == 0 else 1)  "
   ]
  },
  {
   "cell_type": "code",
   "execution_count": 16,
   "id": "welcome-gentleman",
   "metadata": {},
   "outputs": [],
   "source": [
    "train_generator = datagen_train.flow(x_train, y_train, \n",
    "                                     batch_size=batch_size,\n",
    "                                     seed=123)\n",
    "val_generator = datagen_train.flow(x_val, y_val, \n",
    "                                     batch_size=batch_size,\n",
    "                                     seed=123)\n",
    "test_generator = datagen_test.flow(x_test, y_test, \n",
    "                                   batch_size=batch_size,\n",
    "                                   seed=123)"
   ]
  },
  {
   "cell_type": "code",
   "execution_count": 17,
   "id": "august-damage",
   "metadata": {},
   "outputs": [
    {
     "name": "stderr",
     "output_type": "stream",
     "text": [
      "C:\\Users\\marek\\anaconda3\\lib\\site-packages\\tensorflow\\python\\keras\\engine\\training.py:1940: UserWarning: `Model.fit_generator` is deprecated and will be removed in a future version. Please use `Model.fit`, which supports generators.\n",
      "  warnings.warn('`Model.fit_generator` is deprecated and '\n"
     ]
    },
    {
     "name": "stdout",
     "output_type": "stream",
     "text": [
      "Epoch 1/25\n",
      "1500/1500 [==============================] - 20s 13ms/step - loss: 22.3784 - accuracy: 0.3506 - val_loss: 1.5349 - val_accuracy: 0.4278\n",
      "Epoch 2/25\n",
      "1500/1500 [==============================] - 18s 12ms/step - loss: 1.3926 - accuracy: 0.4821 - val_loss: 1.3369 - val_accuracy: 0.5098\n",
      "Epoch 3/25\n",
      "1500/1500 [==============================] - 18s 12ms/step - loss: 1.2567 - accuracy: 0.5233 - val_loss: 1.2227 - val_accuracy: 0.5530\n",
      "Epoch 4/25\n",
      "1500/1500 [==============================] - 18s 12ms/step - loss: 1.1947 - accuracy: 0.5465 - val_loss: 1.1814 - val_accuracy: 0.5502\n",
      "Epoch 5/25\n",
      "1500/1500 [==============================] - 17s 11ms/step - loss: 1.1296 - accuracy: 0.5669 - val_loss: 1.1263 - val_accuracy: 0.5723\n",
      "Epoch 6/25\n",
      "1500/1500 [==============================] - 17s 11ms/step - loss: 1.0844 - accuracy: 0.5810 - val_loss: 1.0573 - val_accuracy: 0.5931\n",
      "Epoch 7/25\n",
      "1500/1500 [==============================] - 17s 11ms/step - loss: 1.0364 - accuracy: 0.5985 - val_loss: 1.0421 - val_accuracy: 0.6022\n",
      "Epoch 8/25\n",
      "1500/1500 [==============================] - 17s 11ms/step - loss: 1.0000 - accuracy: 0.6096 - val_loss: 1.0673 - val_accuracy: 0.5745\n",
      "Epoch 9/25\n",
      "1500/1500 [==============================] - 17s 11ms/step - loss: 0.9737 - accuracy: 0.6244 - val_loss: 0.9555 - val_accuracy: 0.6338\n",
      "Epoch 10/25\n",
      "1500/1500 [==============================] - 17s 11ms/step - loss: 0.9356 - accuracy: 0.6399 - val_loss: 0.9555 - val_accuracy: 0.6384\n",
      "Epoch 11/25\n",
      "1500/1500 [==============================] - 19s 12ms/step - loss: 0.9079 - accuracy: 0.6530 - val_loss: 0.9095 - val_accuracy: 0.6517\n",
      "Epoch 12/25\n",
      "1500/1500 [==============================] - 19s 12ms/step - loss: 0.8897 - accuracy: 0.6600 - val_loss: 0.8598 - val_accuracy: 0.6717\n",
      "Epoch 13/25\n",
      "1500/1500 [==============================] - 17s 11ms/step - loss: 0.8644 - accuracy: 0.6692 - val_loss: 0.8700 - val_accuracy: 0.6749\n",
      "Epoch 14/25\n",
      "1500/1500 [==============================] - 18s 12ms/step - loss: 0.8556 - accuracy: 0.6746 - val_loss: 0.8200 - val_accuracy: 0.6881\n",
      "Epoch 15/25\n",
      "1500/1500 [==============================] - 18s 12ms/step - loss: 0.8185 - accuracy: 0.6866 - val_loss: 0.7910 - val_accuracy: 0.6950\n",
      "Epoch 16/25\n",
      "1500/1500 [==============================] - 18s 12ms/step - loss: 0.8016 - accuracy: 0.6967 - val_loss: 0.7826 - val_accuracy: 0.6963\n",
      "Epoch 17/25\n",
      "1500/1500 [==============================] - 19s 12ms/step - loss: 0.7733 - accuracy: 0.7066 - val_loss: 0.7809 - val_accuracy: 0.7049\n",
      "Epoch 18/25\n",
      "1500/1500 [==============================] - 19s 12ms/step - loss: 0.7640 - accuracy: 0.7081 - val_loss: 0.7646 - val_accuracy: 0.7100\n",
      "Epoch 19/25\n",
      "1500/1500 [==============================] - 17s 11ms/step - loss: 0.7482 - accuracy: 0.7135 - val_loss: 0.7412 - val_accuracy: 0.7138\n",
      "Epoch 20/25\n",
      "1500/1500 [==============================] - 17s 11ms/step - loss: 0.7428 - accuracy: 0.7166 - val_loss: 0.7514 - val_accuracy: 0.7173\n",
      "Epoch 21/25\n",
      "1500/1500 [==============================] - 17s 11ms/step - loss: 0.7309 - accuracy: 0.7218 - val_loss: 0.7301 - val_accuracy: 0.7207\n",
      "Epoch 22/25\n",
      "1500/1500 [==============================] - 17s 11ms/step - loss: 0.7276 - accuracy: 0.7218 - val_loss: 0.7700 - val_accuracy: 0.7050\n",
      "Epoch 23/25\n",
      "1500/1500 [==============================] - 17s 11ms/step - loss: 0.7207 - accuracy: 0.7252 - val_loss: 0.7313 - val_accuracy: 0.7226\n",
      "Epoch 24/25\n",
      "1500/1500 [==============================] - 18s 12ms/step - loss: 0.7042 - accuracy: 0.7298 - val_loss: 0.7121 - val_accuracy: 0.7284\n",
      "Epoch 25/25\n",
      "1500/1500 [==============================] - 18s 12ms/step - loss: 0.7063 - accuracy: 0.7286 - val_loss: 0.6970 - val_accuracy: 0.7337\n"
     ]
    }
   ],
   "source": [
    "history = model.fit_generator(train_generator,\n",
    "                              steps_per_epoch = num_train_batches, \n",
    "                              epochs = num_epochs,\n",
    "                              validation_data = val_generator,\n",
    "                              validation_steps = num_val_batches)"
   ]
  },
  {
   "cell_type": "code",
   "execution_count": 18,
   "id": "tutorial-insurance",
   "metadata": {},
   "outputs": [
    {
     "name": "stdout",
     "output_type": "stream",
     "text": [
      " 24/313 [=>............................] - ETA: 1s - loss: 5.0241 - accuracy: 0.1784"
     ]
    },
    {
     "name": "stderr",
     "output_type": "stream",
     "text": [
      "C:\\Users\\marek\\anaconda3\\lib\\site-packages\\tensorflow\\python\\keras\\engine\\training.py:1973: UserWarning: `Model.evaluate_generator` is deprecated and will be removed in a future version. Please use `Model.evaluate`, which supports generators.\n",
      "  warnings.warn('`Model.evaluate_generator` is deprecated and '\n"
     ]
    },
    {
     "name": "stdout",
     "output_type": "stream",
     "text": [
      "313/313 [==============================] - 1s 4ms/step - loss: 4.8035 - accuracy: 0.2168\n"
     ]
    }
   ],
   "source": [
    "loss, acc = model.evaluate_generator(test_generator, \n",
    "                                     steps=num_test_batches,\n",
    "                                     verbose=1)"
   ]
  },
  {
   "cell_type": "code",
   "execution_count": 19,
   "id": "dental-journalist",
   "metadata": {},
   "outputs": [
    {
     "data": {
      "image/png": "[encoded data removed]",
      "text/plain": [
       "<Figure size 432x288 with 1 Axes>"
      ]
     },
     "metadata": {
      "needs_background": "light"
     },
     "output_type": "display_data"
    }
   ],
   "source": [
    "loss_values = history.history[\"loss\"]\n",
    "validation_loss_val = history.history[\"val_loss\"]\n",
    "\n",
    "plt.plot(epochs, loss_values, 'b', label='Training loss')\n",
    "plt.plot(epochs, validation_loss_val, 'r', label='Validation loss')\n",
    "plt.title('Training and validation loss')\n",
    "plt.xlabel('Epochs')\n",
    "plt.ylabel('Loss')\n",
    "plt.legend()\n",
    "plt.show()"
   ]
  },
  {
   "cell_type": "code",
   "execution_count": 20,
   "id": "independent-oracle",
   "metadata": {},
   "outputs": [
    {
     "data": {
      "image/png": "[encoded data removed]",
      "text/plain": [
       "<Figure size 432x288 with 1 Axes>"
      ]
     },
     "metadata": {
      "needs_background": "light"
     },
     "output_type": "display_data"
    }
   ],
   "source": [
    "train_acc = history.history['accuracy']\n",
    "validation_acc = history.history[\"val_accuracy\"]\n",
    "\n",
    "plt.plot(epochs, train_acc, 'b', label='Training accuracy')\n",
    "plt.plot(epochs, validation_acc, 'r', label='Validation accuracy')\n",
    "plt.title('Training and validation accuracy')\n",
    "plt.xlabel('Epochs')\n",
    "plt.ylabel('Accuracy')\n",
    "plt.legend()\n",
    "plt.show()"
   ]
  },
  {
   "cell_type": "markdown",
   "id": "distinct-adult",
   "metadata": {},
   "source": [
    "## Task 2. Implement pooling layer"
   ]
  },
  {
   "cell_type": "code",
   "execution_count": 21,
   "id": "skilled-walnut",
   "metadata": {},
   "outputs": [],
   "source": [
    "def pooling2d(X, kernel_size, stride, padding=0, pool_mode='max'):\n",
    "    \n",
    "    X = np.pad(X, padding, mode='constant')\n",
    "        \n",
    "    out_height = int(np.floor(1 + (X.shape[0] - kernel_size) // stride))\n",
    "    out_width = int(np.floor(1 + (X.shape[1] - kernel_size) // stride))\n",
    "    shape_p = (out_height, out_width, kernel_size, kernel_size)\n",
    "    strides_p = (stride * X.strides[0], stride * X.strides[1], X.strides[0], X.strides[1])\n",
    "    \n",
    "    X_strided = as_strided(X, shape_p, strides_p)\n",
    "\n",
    "    if pool_mode == 'max':\n",
    "        return X_strided.max(axis=(2, 3))\n",
    "    elif pool_mode == 'avg':\n",
    "        return X_strided.mean(axis=(2, 3))"
   ]
  },
  {
   "cell_type": "code",
   "execution_count": 22,
   "id": "necessary-hours",
   "metadata": {},
   "outputs": [],
   "source": [
    "X = np.array([[7, 9, 22, 41],\n",
    "              [11, 2, 12, 6],\n",
    "              [2, 4, 6, 8],\n",
    "              [3, 5, 7, 9]])"
   ]
  },
  {
   "cell_type": "code",
   "execution_count": 23,
   "id": "deluxe-helicopter",
   "metadata": {},
   "outputs": [
    {
     "data": {
      "text/plain": [
       "array([[11, 41],\n",
       "       [ 5,  9]])"
      ]
     },
     "execution_count": 23,
     "metadata": {},
     "output_type": "execute_result"
    }
   ],
   "source": [
    "pooling2d(X, kernel_size=2, stride=2, padding=0, pool_mode='max')"
   ]
  },
  {
   "cell_type": "code",
   "execution_count": 24,
   "id": "floral-karaoke",
   "metadata": {},
   "outputs": [
    {
     "data": {
      "text/plain": [
       "array([[ 7.25, 20.25],\n",
       "       [ 3.5 ,  7.5 ]])"
      ]
     },
     "execution_count": 24,
     "metadata": {},
     "output_type": "execute_result"
    }
   ],
   "source": [
    "pooling2d(X, kernel_size=2, stride=2, padding=0, pool_mode='avg')"
   ]
  },
  {
   "cell_type": "code",
   "execution_count": 25,
   "id": "deadly-sellers",
   "metadata": {},
   "outputs": [
    {
     "data": {
      "text/plain": [
       "<matplotlib.image.AxesImage at 0x1bb9ebbb6a0>"
      ]
     },
     "execution_count": 25,
     "metadata": {},
     "output_type": "execute_result"
    },
    {
     "data": {
      "image/png": "[encoded data removed]",
      "text/plain": [
       "<Figure size 432x288 with 1 Axes>"
      ]
     },
     "metadata": {
      "needs_background": "light"
     },
     "output_type": "display_data"
    }
   ],
   "source": [
    "img = x_train[10].reshape(28, 28)\n",
    "plt.imshow(img, cmap='gray')"
   ]
  },
  {
   "cell_type": "code",
   "execution_count": 26,
   "id": "powerful-ottawa",
   "metadata": {},
   "outputs": [],
   "source": [
    "img_max_pool = pooling2d(img, kernel_size=2, stride=1, padding=1, pool_mode='max')"
   ]
  },
  {
   "cell_type": "code",
   "execution_count": 27,
   "id": "buried-narrow",
   "metadata": {},
   "outputs": [
    {
     "data": {
      "text/plain": [
       "<matplotlib.image.AxesImage at 0x1bb9f316820>"
      ]
     },
     "execution_count": 27,
     "metadata": {},
     "output_type": "execute_result"
    },
    {
     "data": {
      "image/png": "[encoded data removed]",
      "text/plain": [
       "<Figure size 432x288 with 1 Axes>"
      ]
     },
     "metadata": {
      "needs_background": "light"
     },
     "output_type": "display_data"
    }
   ],
   "source": [
    "plt.imshow(img_max_pool, cmap='gray')"
   ]
  },
  {
   "cell_type": "code",
   "execution_count": 28,
   "id": "taken-course",
   "metadata": {},
   "outputs": [
    {
     "name": "stdout",
     "output_type": "stream",
     "text": [
      "[  0   0   0   0   0   0   0  13  30  59  99 101 101 105 122 128 139 139\n",
      " 136 101  86  63  51   0   0   0   0   0   0]\n"
     ]
    }
   ],
   "source": [
    "print(img_max_pool[0])"
   ]
  },
  {
   "cell_type": "code",
   "execution_count": 29,
   "id": "hundred-disabled",
   "metadata": {},
   "outputs": [],
   "source": [
    "img_avg_pool = pooling2d(img, kernel_size=2, stride=1, padding=1, pool_mode='avg')"
   ]
  },
  {
   "cell_type": "code",
   "execution_count": 30,
   "id": "apart-release",
   "metadata": {},
   "outputs": [
    {
     "data": {
      "text/plain": [
       "<matplotlib.image.AxesImage at 0x1bb9f363f40>"
      ]
     },
     "execution_count": 30,
     "metadata": {},
     "output_type": "execute_result"
    },
    {
     "data": {
      "image/png": "[encoded data removed]",
      "text/plain": [
       "<Figure size 432x288 with 1 Axes>"
      ]
     },
     "metadata": {
      "needs_background": "light"
     },
     "output_type": "display_data"
    }
   ],
   "source": [
    "plt.imshow(img_avg_pool, cmap='gray')"
   ]
  },
  {
   "cell_type": "code",
   "execution_count": 31,
   "id": "overall-lover",
   "metadata": {},
   "outputs": [
    {
     "name": "stdout",
     "output_type": "stream",
     "text": [
      "[  0.     0.     0.     0.     0.     0.    28.25  81.75 101.25 110.25\n",
      " 135.5  147.5  146.   151.75 163.25 166.25 164.25 162.25 155.25 145.75\n",
      " 128.   118.25  86.25  24.25   0.     0.     0.     0.     0.  ]\n"
     ]
    }
   ],
   "source": [
    "print(img_avg_pool[1])"
   ]
  }
 ],
 "metadata": {
  "kernelspec": {
   "display_name": "Python 3",
   "language": "python",
   "name": "python3"
  },
  "language_info": {
   "codemirror_mode": {
    "name": "ipython",
    "version": 3
   },
   "file_extension": ".py",
   "mimetype": "text/x-python",
   "name": "python",
   "nbconvert_exporter": "python",
   "pygments_lexer": "ipython3",
   "version": "3.8.8"
  }
 },
 "nbformat": 4,
 "nbformat_minor": 5
}
