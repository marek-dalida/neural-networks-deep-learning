{
 "cells": [
  {
   "cell_type": "markdown",
   "id": "hybrid-australia",
   "metadata": {},
   "source": [
    "# IMDB Sentiment Classification with Keras NN"
   ]
  },
  {
   "cell_type": "markdown",
   "id": "tired-marshall",
   "metadata": {},
   "source": [
    "Import libraries"
   ]
  },
  {
   "cell_type": "code",
   "execution_count": 1,
   "id": "future-jackson",
   "metadata": {},
   "outputs": [],
   "source": [
    "import numpy as np\n",
    "from tensorflow.keras.utils import to_categorical\n",
    "from tensorflow.keras import models\n",
    "from tensorflow.keras import layers"
   ]
  },
  {
   "cell_type": "markdown",
   "id": "cooked-hebrew",
   "metadata": {},
   "source": [
    "### Import dataset"
   ]
  },
  {
   "cell_type": "code",
   "execution_count": 2,
   "id": "acoustic-covering",
   "metadata": {},
   "outputs": [
    {
     "name": "stderr",
     "output_type": "stream",
     "text": [
      "<__array_function__ internals>:5: VisibleDeprecationWarning: Creating an ndarray from ragged nested sequences (which is a list-or-tuple of lists-or-tuples-or ndarrays with different lengths or shapes) is deprecated. If you meant to do this, you must specify 'dtype=object' when creating the ndarray\n",
      "C:\\Users\\marek\\anaconda3\\lib\\site-packages\\tensorflow\\python\\keras\\datasets\\imdb.py:155: VisibleDeprecationWarning: Creating an ndarray from ragged nested sequences (which is a list-or-tuple of lists-or-tuples-or ndarrays with different lengths or shapes) is deprecated. If you meant to do this, you must specify 'dtype=object' when creating the ndarray\n",
      "  x_train, y_train = np.array(xs[:idx]), np.array(labels[:idx])\n",
      "C:\\Users\\marek\\anaconda3\\lib\\site-packages\\tensorflow\\python\\keras\\datasets\\imdb.py:156: VisibleDeprecationWarning: Creating an ndarray from ragged nested sequences (which is a list-or-tuple of lists-or-tuples-or ndarrays with different lengths or shapes) is deprecated. If you meant to do this, you must specify 'dtype=object' when creating the ndarray\n",
      "  x_test, y_test = np.array(xs[idx:]), np.array(labels[idx:])\n"
     ]
    }
   ],
   "source": [
    "from tensorflow.keras.datasets import imdb\n",
    "\n",
    "(train_data, train_target), (test_data, test_target) = imdb.load_data(num_words=10000)"
   ]
  },
  {
   "cell_type": "markdown",
   "id": "downtown-madness",
   "metadata": {},
   "source": [
    "Data shape"
   ]
  },
  {
   "cell_type": "code",
   "execution_count": 3,
   "id": "checked-badge",
   "metadata": {},
   "outputs": [
    {
     "name": "stdout",
     "output_type": "stream",
     "text": [
      "train_data : (25000,)\n",
      "train_target :  (25000,)\n",
      "\n",
      "test_data  (25000,)\n",
      "test_target  (25000,)\n"
     ]
    }
   ],
   "source": [
    "print(\"train_data :\", train_data.shape)\n",
    "print(\"train_target : \", train_target.shape)\n",
    "print(\"\\ntest_data \", test_data.shape)\n",
    "print(\"test_target \", test_target.shape)"
   ]
  },
  {
   "cell_type": "markdown",
   "id": "complex-stephen",
   "metadata": {},
   "source": [
    "Data statistics"
   ]
  },
  {
   "cell_type": "code",
   "execution_count": 4,
   "id": "musical-doubt",
   "metadata": {},
   "outputs": [
    {
     "name": "stdout",
     "output_type": "stream",
     "text": [
      "Categories: [0 1]\n",
      "Average Review length: 238.71364\n",
      "Standard Deviation: 176\n",
      "Maximum value of a word index:  9999\n",
      "Maximum length num words of review in train : 2494\n"
     ]
    }
   ],
   "source": [
    "print(\"Categories:\", np.unique(train_target))\n",
    "length = [len(i) for i in train_data]\n",
    "print(\"Average Review length:\", np.mean(length))\n",
    "print(\"Standard Deviation:\", round(np.std(length)))\n",
    "print(\"Maximum value of a word index: \", max([max(sequence) for sequence in train_data]))\n",
    "print(\"Maximum length num words of review in train :\", max([len(sequence) for sequence in train_data]))   "
   ]
  },
  {
   "cell_type": "markdown",
   "id": "eligible-glory",
   "metadata": {},
   "source": [
    "Representation of data"
   ]
  },
  {
   "cell_type": "code",
   "execution_count": 5,
   "id": "specialized-wrapping",
   "metadata": {},
   "outputs": [
    {
     "name": "stdout",
     "output_type": "stream",
     "text": [
      "Label: 1\n"
     ]
    }
   ],
   "source": [
    "print(\"Label:\", train_target[0])"
   ]
  },
  {
   "cell_type": "code",
   "execution_count": 6,
   "id": "annual-joint",
   "metadata": {},
   "outputs": [
    {
     "name": "stdout",
     "output_type": "stream",
     "text": [
      "[1, 14, 22, 16, 43, 530, 973, 1622, 1385, 65, 458, 4468, 66, 3941, 4, 173, 36, 256, 5, 25, 100, 43, 838, 112, 50, 670, 2, 9, 35, 480, 284, 5, 150, 4, 172, 112, 167, 2, 336, 385, 39, 4, 172, 4536, 1111, 17, 546, 38, 13, 447, 4, 192, 50, 16, 6, 147, 2025, 19, 14, 22, 4, 1920, 4613, 469, 4, 22, 71, 87, 12, 16, 43, 530, 38, 76, 15, 13, 1247, 4, 22, 17, 515, 17, 12, 16, 626, 18, 2, 5, 62, 386, 12, 8, 316, 8, 106, 5, 4, 2223, 5244, 16, 480, 66, 3785, 33, 4, 130, 12, 16, 38, 619, 5, 25, 124, 51, 36, 135, 48, 25, 1415, 33, 6, 22, 12, 215, 28, 77, 52, 5, 14, 407, 16, 82, 2, 8, 4, 107, 117, 5952, 15, 256, 4, 2, 7, 3766, 5, 723, 36, 71, 43, 530, 476, 26, 400, 317, 46, 7, 4, 2, 1029, 13, 104, 88, 4, 381, 15, 297, 98, 32, 2071, 56, 26, 141, 6, 194, 7486, 18, 4, 226, 22, 21, 134, 476, 26, 480, 5, 144, 30, 5535, 18, 51, 36, 28, 224, 92, 25, 104, 4, 226, 65, 16, 38, 1334, 88, 12, 16, 283, 5, 16, 4472, 113, 103, 32, 15, 16, 5345, 19, 178, 32]\n"
     ]
    }
   ],
   "source": [
    "print(train_data[0])"
   ]
  },
  {
   "cell_type": "markdown",
   "id": "binary-economy",
   "metadata": {},
   "source": [
    "See actual review in words"
   ]
  },
  {
   "cell_type": "code",
   "execution_count": 7,
   "id": "imported-corruption",
   "metadata": {},
   "outputs": [
    {
     "name": "stdout",
     "output_type": "stream",
     "text": [
      "# big hair big boobs bad music and a giant safety pin these are the words to best describe this terrible movie i love cheesy horror movies and i've seen hundreds but this had got to be on of the worst ever made the plot is paper thin and ridiculous the acting is an abomination the script is completely laughable the best is the end showdown with the cop and how he worked out who the killer is it's just so damn terribly written the clothes are sickening and funny in equal # the hair is big lots of boobs # men wear those cut # shirts that show off their # sickening that men actually wore them and the music is just # trash that plays over and over again in almost every scene there is trashy music boobs and # taking away bodies and the gym still doesn't close for # all joking aside this is a truly bad film whose only charm is to look back on the disaster that was the 80's and have a good old laugh at how bad everything was back then\n"
     ]
    }
   ],
   "source": [
    "index = imdb.get_word_index()\n",
    "reverse_index = dict([(value, key) for (key, value) in index.items()]) \n",
    "decoded = \" \".join( [reverse_index.get(i - 3, \"#\") for i in train_data[1]] )\n",
    "print(decoded) "
   ]
  },
  {
   "cell_type": "markdown",
   "id": "indian-tooth",
   "metadata": {},
   "source": [
    "### Data preparation"
   ]
  },
  {
   "cell_type": "markdown",
   "id": "stylish-listening",
   "metadata": {},
   "source": [
    "Encoding integer sequence into binary matrix using one hot encoder\n",
    "\n",
    "From integers which represents words to normalised one hot encoded tensor (matrix) of 10 thousand columns"
   ]
  },
  {
   "cell_type": "code",
   "execution_count": 8,
   "id": "suspected-analysis",
   "metadata": {},
   "outputs": [],
   "source": [
    "def vectorize(sequences, dimension = 10000):\n",
    "    results = np.zeros((len(sequences), dimension))\n",
    "    for i, sequence in enumerate(sequences):\n",
    "        results[i, sequence] = 1\n",
    "    return results\n",
    " \n",
    "x_train = vectorize(train_data)\n",
    "y_train = np.array(train_target).astype(\"float32\")\n",
    "x_test = vectorize(test_data)\n",
    "y_test = np.array(test_target).astype(\"float32\")"
   ]
  },
  {
   "cell_type": "code",
   "execution_count": 9,
   "id": "bright-watch",
   "metadata": {},
   "outputs": [
    {
     "name": "stdout",
     "output_type": "stream",
     "text": [
      "10000\n"
     ]
    }
   ],
   "source": [
    "print(x_test[0].size)"
   ]
  },
  {
   "cell_type": "code",
   "execution_count": 10,
   "id": "finished-original",
   "metadata": {},
   "outputs": [
    {
     "name": "stdout",
     "output_type": "stream",
     "text": [
      "Model: \"sequential\"\n",
      "_________________________________________________________________\n",
      "Layer (type)                 Output Shape              Param #   \n",
      "=================================================================\n",
      "dense (Dense)                (None, 50)                500050    \n",
      "_________________________________________________________________\n",
      "dropout (Dropout)            (None, 50)                0         \n",
      "_________________________________________________________________\n",
      "dense_1 (Dense)              (None, 50)                2550      \n",
      "_________________________________________________________________\n",
      "dropout_1 (Dropout)          (None, 50)                0         \n",
      "_________________________________________________________________\n",
      "dense_2 (Dense)              (None, 50)                2550      \n",
      "_________________________________________________________________\n",
      "dropout_2 (Dropout)          (None, 50)                0         \n",
      "_________________________________________________________________\n",
      "dense_3 (Dense)              (None, 25)                1275      \n",
      "_________________________________________________________________\n",
      "dense_4 (Dense)              (None, 1)                 26        \n",
      "=================================================================\n",
      "Total params: 506,451\n",
      "Trainable params: 506,451\n",
      "Non-trainable params: 0\n",
      "_________________________________________________________________\n"
     ]
    }
   ],
   "source": [
    "from tensorflow.keras import regularizers\n",
    "\n",
    "model = models.Sequential()\n",
    "# Input layer\n",
    "model.add(layers.Dense(50, activation = \"relu\", input_shape=(10000, )))\n",
    "# Hidden layers\n",
    "model.add(layers.Dropout(0.3, noise_shape=None, seed=None))\n",
    "model.add(layers.Dense(50,  kernel_regularizer=regularizers.l1_l2(l1=0.001, l2=0.001), activation = \"relu\"))\n",
    "model.add(layers.Dropout(0.2, noise_shape=None, seed=None))\n",
    "model.add(layers.Dense(50,  kernel_regularizer=regularizers.l1_l2(l1=0.001, l2=0.002),  activation = \"relu\"))\n",
    "model.add(layers.Dropout(0.3, noise_shape=None, seed=None))\n",
    "model.add(layers.Dense(25,  kernel_regularizer=regularizers.l1_l2(l1=0.001, l2=0.003),  activation = \"relu\"))\n",
    "# Output layer\n",
    "model.add(layers.Dense(1, activation = \"sigmoid\"))\n",
    "model.summary()"
   ]
  },
  {
   "cell_type": "code",
   "execution_count": 11,
   "id": "abandoned-astrology",
   "metadata": {},
   "outputs": [
    {
     "name": "stdout",
     "output_type": "stream",
     "text": [
      "Epoch 1/10\n",
      "125/125 [==============================] - 3s 17ms/step - loss: 1.1173 - accuracy: 0.7933 - val_loss: 0.6917 - val_accuracy: 0.8862\n",
      "Epoch 2/10\n",
      "125/125 [==============================] - 1s 11ms/step - loss: 0.4982 - accuracy: 0.9137 - val_loss: 0.4506 - val_accuracy: 0.8811\n",
      "Epoch 3/10\n",
      "125/125 [==============================] - 1s 10ms/step - loss: 0.3078 - accuracy: 0.9401 - val_loss: 0.4117 - val_accuracy: 0.8803\n",
      "Epoch 4/10\n",
      "125/125 [==============================] - 1s 11ms/step - loss: 0.2420 - accuracy: 0.9561 - val_loss: 0.4338 - val_accuracy: 0.8768\n",
      "Epoch 5/10\n",
      "125/125 [==============================] - 1s 10ms/step - loss: 0.2036 - accuracy: 0.9680 - val_loss: 0.4532 - val_accuracy: 0.8770\n",
      "Epoch 6/10\n",
      "125/125 [==============================] - 1s 10ms/step - loss: 0.1763 - accuracy: 0.9762 - val_loss: 0.4705 - val_accuracy: 0.8726\n",
      "Epoch 7/10\n",
      "125/125 [==============================] - 1s 10ms/step - loss: 0.1545 - accuracy: 0.9832 - val_loss: 0.5041 - val_accuracy: 0.8726\n",
      "Epoch 8/10\n",
      "125/125 [==============================] - 1s 10ms/step - loss: 0.1415 - accuracy: 0.9854 - val_loss: 0.5094 - val_accuracy: 0.8692\n",
      "Epoch 9/10\n",
      "125/125 [==============================] - 1s 10ms/step - loss: 0.1292 - accuracy: 0.9894 - val_loss: 0.5636 - val_accuracy: 0.8720\n",
      "Epoch 10/10\n",
      "125/125 [==============================] - 1s 10ms/step - loss: 0.1208 - accuracy: 0.9905 - val_loss: 0.5608 - val_accuracy: 0.8698\n"
     ]
    }
   ],
   "source": [
    "model.compile(\n",
    " optimizer = \"adam\",\n",
    " loss = \"binary_crossentropy\",\n",
    " metrics = [\"accuracy\"]\n",
    ")\n",
    "train_history = model.fit(\n",
    " x_train, y_train,\n",
    " epochs= 10,\n",
    " batch_size = 200,\n",
    " validation_data = (x_test, y_test)\n",
    ")"
   ]
  },
  {
   "cell_type": "code",
   "execution_count": 12,
   "id": "sacred-broad",
   "metadata": {},
   "outputs": [
    {
     "name": "stdout",
     "output_type": "stream",
     "text": [
      "782/782 [==============================] - 2s 2ms/step - loss: 0.5608 - accuracy: 0.8698\n"
     ]
    },
    {
     "data": {
      "text/plain": [
       "[0.5608053207397461, 0.8697999715805054]"
      ]
     },
     "execution_count": 12,
     "metadata": {},
     "output_type": "execute_result"
    }
   ],
   "source": [
    "results = model.evaluate(x_test, y_test, verbose=1)\n",
    "results"
   ]
  },
  {
   "cell_type": "code",
   "execution_count": 13,
   "id": "closing-teddy",
   "metadata": {},
   "outputs": [
    {
     "data": {
      "image/png": "[encoded data removed]",
      "text/plain": [
       "<Figure size 432x288 with 1 Axes>"
      ]
     },
     "metadata": {
      "needs_background": "light"
     },
     "output_type": "display_data"
    }
   ],
   "source": [
    "import matplotlib.pyplot as plt\n",
    "\n",
    "loss_values = train_history.history[\"loss\"]\n",
    "validation_loss_val = train_history.history[\"val_loss\"]\n",
    "\n",
    "epochs = range(1, 11)\n",
    "\n",
    "plt.plot(epochs, loss_values, 'b', label='Training loss')\n",
    "plt.plot(epochs, validation_loss_val, 'r', label='Validation loss')\n",
    "plt.title('Training and validation loss')\n",
    "plt.xlabel('Epochs')\n",
    "plt.ylabel('Loss')\n",
    "plt.legend()\n",
    "plt.show()"
   ]
  },
  {
   "cell_type": "code",
   "execution_count": 14,
   "id": "small-oasis",
   "metadata": {},
   "outputs": [
    {
     "data": {
      "image/png": "[encoded data removed]",
      "text/plain": [
       "<Figure size 432x288 with 1 Axes>"
      ]
     },
     "metadata": {
      "needs_background": "light"
     },
     "output_type": "display_data"
    }
   ],
   "source": [
    "train_acc = train_history.history['accuracy']\n",
    "validation_acc = train_history.history[\"val_accuracy\"]\n",
    "\n",
    "plt.plot(epochs, train_acc, 'b', label='Training accuracy')\n",
    "plt.plot(epochs, validation_acc, 'r', label='Validation accuracy')\n",
    "plt.title('Training and validation accuracy')\n",
    "plt.xlabel('Epochs')\n",
    "plt.ylabel('Accuracy')\n",
    "plt.legend()\n",
    "plt.show()"
   ]
  },
  {
   "cell_type": "markdown",
   "id": "angry-shock",
   "metadata": {},
   "source": [
    "In above chart we can see that accuracy is growing for train dataset only it could be sign of overfitting"
   ]
  },
  {
   "cell_type": "markdown",
   "id": "stunning-scanner",
   "metadata": {},
   "source": [
    "### Second model with different regularization values L1 and L2 and RMSprop optimizer"
   ]
  },
  {
   "cell_type": "code",
   "execution_count": 15,
   "id": "dynamic-service",
   "metadata": {},
   "outputs": [
    {
     "name": "stdout",
     "output_type": "stream",
     "text": [
      "Model: \"sequential_1\"\n",
      "_________________________________________________________________\n",
      "Layer (type)                 Output Shape              Param #   \n",
      "=================================================================\n",
      "dense_5 (Dense)              (None, 50)                500050    \n",
      "_________________________________________________________________\n",
      "dropout_3 (Dropout)          (None, 50)                0         \n",
      "_________________________________________________________________\n",
      "dense_6 (Dense)              (None, 50)                2550      \n",
      "_________________________________________________________________\n",
      "dropout_4 (Dropout)          (None, 50)                0         \n",
      "_________________________________________________________________\n",
      "dense_7 (Dense)              (None, 50)                2550      \n",
      "_________________________________________________________________\n",
      "dropout_5 (Dropout)          (None, 50)                0         \n",
      "_________________________________________________________________\n",
      "dense_8 (Dense)              (None, 25)                1275      \n",
      "_________________________________________________________________\n",
      "dense_9 (Dense)              (None, 1)                 26        \n",
      "=================================================================\n",
      "Total params: 506,451\n",
      "Trainable params: 506,451\n",
      "Non-trainable params: 0\n",
      "_________________________________________________________________\n"
     ]
    }
   ],
   "source": [
    "model = models.Sequential()\n",
    "# Input layer\n",
    "model.add(layers.Dense(50, activation = \"relu\", input_shape=(10000, )))\n",
    "# Hidden layers\n",
    "model.add(layers.Dropout(0.3, noise_shape=None, seed=None))\n",
    "model.add(layers.Dense(50,  kernel_regularizer=regularizers.l1_l2(l1=0.01, l2=0.01), activation = \"relu\"))\n",
    "model.add(layers.Dropout(0.2, noise_shape=None, seed=None))\n",
    "model.add(layers.Dense(50,  kernel_regularizer=regularizers.l1_l2(l1=0.01, l2=0.02),  activation = \"relu\"))\n",
    "model.add(layers.Dropout(0.3, noise_shape=None, seed=None))\n",
    "model.add(layers.Dense(25,  kernel_regularizer=regularizers.l1_l2(l1=0.01, l2=0.03),  activation = \"relu\"))\n",
    "# Output layer\n",
    "model.add(layers.Dense(1, activation = \"sigmoid\"))\n",
    "model.summary()"
   ]
  },
  {
   "cell_type": "code",
   "execution_count": 16,
   "id": "fancy-agreement",
   "metadata": {},
   "outputs": [
    {
     "name": "stdout",
     "output_type": "stream",
     "text": [
      "Epoch 1/10\n",
      "125/125 [==============================] - 3s 16ms/step - loss: 6.0841 - accuracy: 0.7584 - val_loss: 2.7718 - val_accuracy: 0.8739\n",
      "Epoch 2/10\n",
      "125/125 [==============================] - 2s 12ms/step - loss: 1.3787 - accuracy: 0.8579 - val_loss: 0.6447 - val_accuracy: 0.8777\n",
      "Epoch 3/10\n",
      "125/125 [==============================] - 2s 12ms/step - loss: 0.5975 - accuracy: 0.8741 - val_loss: 0.5485 - val_accuracy: 0.8883\n",
      "Epoch 4/10\n",
      "125/125 [==============================] - 2s 12ms/step - loss: 0.5392 - accuracy: 0.8870 - val_loss: 0.5187 - val_accuracy: 0.8918\n",
      "Epoch 5/10\n",
      "125/125 [==============================] - 2s 12ms/step - loss: 0.5036 - accuracy: 0.8975 - val_loss: 0.5031 - val_accuracy: 0.8909\n",
      "Epoch 6/10\n",
      "125/125 [==============================] - 2s 12ms/step - loss: 0.4777 - accuracy: 0.9050 - val_loss: 0.4949 - val_accuracy: 0.8904\n",
      "Epoch 7/10\n",
      "125/125 [==============================] - 2s 12ms/step - loss: 0.4593 - accuracy: 0.9108 - val_loss: 0.4876 - val_accuracy: 0.8892\n",
      "Epoch 8/10\n",
      "125/125 [==============================] - 2s 12ms/step - loss: 0.4427 - accuracy: 0.9137 - val_loss: 0.4873 - val_accuracy: 0.8880\n",
      "Epoch 9/10\n",
      "125/125 [==============================] - 2s 12ms/step - loss: 0.4338 - accuracy: 0.9188 - val_loss: 0.4822 - val_accuracy: 0.8872\n",
      "Epoch 10/10\n",
      "125/125 [==============================] - 2s 12ms/step - loss: 0.4165 - accuracy: 0.9221 - val_loss: 0.4852 - val_accuracy: 0.8860\n"
     ]
    }
   ],
   "source": [
    "model.compile(\n",
    " optimizer = \"RMSprop\",\n",
    " loss = \"binary_crossentropy\",\n",
    " metrics = [\"accuracy\"]\n",
    ")\n",
    "train_history = model.fit(\n",
    " x_train, y_train,\n",
    " epochs= 10,\n",
    " batch_size = 200,\n",
    " validation_data = (x_test, y_test)\n",
    ")"
   ]
  },
  {
   "cell_type": "code",
   "execution_count": 17,
   "id": "constant-consent",
   "metadata": {},
   "outputs": [
    {
     "name": "stdout",
     "output_type": "stream",
     "text": [
      "782/782 [==============================] - 2s 2ms/step - loss: 0.4852 - accuracy: 0.8860\n"
     ]
    },
    {
     "data": {
      "text/plain": [
       "[0.48517659306526184, 0.8859599828720093]"
      ]
     },
     "execution_count": 17,
     "metadata": {},
     "output_type": "execute_result"
    }
   ],
   "source": [
    "results = model.evaluate(x_test, y_test, verbose=1)\n",
    "results"
   ]
  },
  {
   "cell_type": "code",
   "execution_count": 18,
   "id": "continuing-perth",
   "metadata": {},
   "outputs": [
    {
     "data": {
      "image/png": "[encoded data removed]",
      "text/plain": [
       "<Figure size 432x288 with 1 Axes>"
      ]
     },
     "metadata": {
      "needs_background": "light"
     },
     "output_type": "display_data"
    }
   ],
   "source": [
    "loss_values = train_history.history[\"loss\"]\n",
    "validation_loss_val = train_history.history[\"val_loss\"]\n",
    "\n",
    "epochs = range(1, 11)\n",
    "\n",
    "plt.plot(epochs, loss_values, 'b', label='Training loss')\n",
    "plt.plot(epochs, validation_loss_val, 'r', label='Validation loss')\n",
    "plt.title('Training and validation loss')\n",
    "plt.xlabel('Epochs')\n",
    "plt.ylabel('Loss')\n",
    "plt.legend()\n",
    "plt.show()"
   ]
  },
  {
   "cell_type": "code",
   "execution_count": 19,
   "id": "strange-sunglasses",
   "metadata": {},
   "outputs": [
    {
     "data": {
      "image/png": "[encoded data removed]",
      "text/plain": [
       "<Figure size 432x288 with 1 Axes>"
      ]
     },
     "metadata": {
      "needs_background": "light"
     },
     "output_type": "display_data"
    }
   ],
   "source": [
    "train_acc = train_history.history['accuracy']\n",
    "validation_acc = train_history.history[\"val_accuracy\"]\n",
    "\n",
    "plt.plot(epochs, train_acc, 'b', label='Training accuracy')\n",
    "plt.plot(epochs, validation_acc, 'r', label='Validation accuracy')\n",
    "plt.title('Training and validation accuracy')\n",
    "plt.xlabel('Epochs')\n",
    "plt.ylabel('Accuracy')\n",
    "plt.legend()\n",
    "plt.show()"
   ]
  },
  {
   "cell_type": "markdown",
   "id": "brilliant-snake",
   "metadata": {},
   "source": [
    "In above chart we see accuracy growing only for training dataset it also could be sign of overfitting"
   ]
  },
  {
   "cell_type": "markdown",
   "id": "speaking-quality",
   "metadata": {},
   "source": [
    "### Third model with reduced number of hidden layers and Ada Grad optimizer"
   ]
  },
  {
   "cell_type": "code",
   "execution_count": 20,
   "id": "unexpected-drive",
   "metadata": {},
   "outputs": [
    {
     "name": "stdout",
     "output_type": "stream",
     "text": [
      "Model: \"sequential_2\"\n",
      "_________________________________________________________________\n",
      "Layer (type)                 Output Shape              Param #   \n",
      "=================================================================\n",
      "dense_10 (Dense)             (None, 50)                500050    \n",
      "_________________________________________________________________\n",
      "dropout_6 (Dropout)          (None, 50)                0         \n",
      "_________________________________________________________________\n",
      "dense_11 (Dense)             (None, 50)                2550      \n",
      "_________________________________________________________________\n",
      "dropout_7 (Dropout)          (None, 50)                0         \n",
      "_________________________________________________________________\n",
      "dense_12 (Dense)             (None, 25)                1275      \n",
      "_________________________________________________________________\n",
      "dense_13 (Dense)             (None, 1)                 26        \n",
      "=================================================================\n",
      "Total params: 503,901\n",
      "Trainable params: 503,901\n",
      "Non-trainable params: 0\n",
      "_________________________________________________________________\n"
     ]
    }
   ],
   "source": [
    "model = models.Sequential()\n",
    "# Input layer\n",
    "model.add(layers.Dense(50, activation = \"relu\", input_shape=(10000, )))\n",
    "# Hidden layers\n",
    "model.add(layers.Dropout(0.2, noise_shape=None, seed=None))\n",
    "model.add(layers.Dense(50,  kernel_regularizer=regularizers.l1_l2(l1=0.04, l2=0.04),  activation = \"relu\"))\n",
    "model.add(layers.Dropout(0.3, noise_shape=None, seed=None))\n",
    "model.add(layers.Dense(25,  kernel_regularizer=regularizers.l1_l2(l1=0.02, l2=0.03),  activation = \"relu\"))\n",
    "# Output layer\n",
    "model.add(layers.Dense(1, activation = \"sigmoid\"))\n",
    "model.summary()"
   ]
  },
  {
   "cell_type": "code",
   "execution_count": 21,
   "id": "settled-blanket",
   "metadata": {},
   "outputs": [
    {
     "name": "stdout",
     "output_type": "stream",
     "text": [
      "Epoch 1/10\n",
      "125/125 [==============================] - 2s 16ms/step - loss: 18.5666 - accuracy: 0.5077 - val_loss: 17.7187 - val_accuracy: 0.5172\n",
      "Epoch 2/10\n",
      "125/125 [==============================] - 1s 12ms/step - loss: 17.0976 - accuracy: 0.5267 - val_loss: 16.5273 - val_accuracy: 0.5502\n",
      "Epoch 3/10\n",
      "125/125 [==============================] - 1s 12ms/step - loss: 16.0526 - accuracy: 0.5373 - val_loss: 15.6017 - val_accuracy: 0.5812\n",
      "Epoch 4/10\n",
      "125/125 [==============================] - 1s 12ms/step - loss: 15.2096 - accuracy: 0.5556 - val_loss: 14.8311 - val_accuracy: 0.6054\n",
      "Epoch 5/10\n",
      "125/125 [==============================] - 1s 12ms/step - loss: 14.4941 - accuracy: 0.5700 - val_loss: 14.1648 - val_accuracy: 0.6248\n",
      "Epoch 6/10\n",
      "125/125 [==============================] - 1s 12ms/step - loss: 13.8668 - accuracy: 0.5827 - val_loss: 13.5732 - val_accuracy: 0.6454\n",
      "Epoch 7/10\n",
      "125/125 [==============================] - 1s 11ms/step - loss: 13.3051 - accuracy: 0.5928 - val_loss: 13.0394 - val_accuracy: 0.6635\n",
      "Epoch 8/10\n",
      "125/125 [==============================] - 1s 12ms/step - loss: 12.7952 - accuracy: 0.6062 - val_loss: 12.5525 - val_accuracy: 0.6785\n",
      "Epoch 9/10\n",
      "125/125 [==============================] - 1s 12ms/step - loss: 12.3285 - accuracy: 0.6154 - val_loss: 12.1042 - val_accuracy: 0.6910\n",
      "Epoch 10/10\n",
      "125/125 [==============================] - 1s 12ms/step - loss: 11.8970 - accuracy: 0.6282 - val_loss: 11.6889 - val_accuracy: 0.7026\n"
     ]
    }
   ],
   "source": [
    "model.compile(\n",
    " optimizer = \"Adagrad\",\n",
    " loss = \"binary_crossentropy\",\n",
    " metrics = [\"accuracy\"]\n",
    ")\n",
    "train_history = model.fit(\n",
    " x_train, y_train,\n",
    " epochs= 10,\n",
    " batch_size = 200,\n",
    " validation_data = (x_test, y_test)\n",
    ")"
   ]
  },
  {
   "cell_type": "code",
   "execution_count": 22,
   "id": "offshore-remove",
   "metadata": {},
   "outputs": [
    {
     "name": "stdout",
     "output_type": "stream",
     "text": [
      "782/782 [==============================] - 2s 2ms/step - loss: 11.6889 - accuracy: 0.7026\n"
     ]
    },
    {
     "data": {
      "text/plain": [
       "[11.68894100189209, 0.7026399970054626]"
      ]
     },
     "execution_count": 22,
     "metadata": {},
     "output_type": "execute_result"
    }
   ],
   "source": [
    "results = model.evaluate(x_test, y_test, verbose=1)\n",
    "results"
   ]
  },
  {
   "cell_type": "code",
   "execution_count": 23,
   "id": "internal-academy",
   "metadata": {},
   "outputs": [
    {
     "data": {
      "image/png": "[encoded data removed]",
      "text/plain": [
       "<Figure size 432x288 with 1 Axes>"
      ]
     },
     "metadata": {
      "needs_background": "light"
     },
     "output_type": "display_data"
    }
   ],
   "source": [
    "loss_values = train_history.history[\"loss\"]\n",
    "validation_loss_val = train_history.history[\"val_loss\"]\n",
    "\n",
    "epochs = range(1, 11)\n",
    "\n",
    "plt.plot(epochs, loss_values, 'b', label='Training loss')\n",
    "plt.plot(epochs, validation_loss_val, 'r', label='Validation loss')\n",
    "plt.title('Training and validation loss')\n",
    "plt.xlabel('Epochs')\n",
    "plt.ylabel('Loss')\n",
    "plt.legend()\n",
    "plt.show()"
   ]
  },
  {
   "cell_type": "code",
   "execution_count": 24,
   "id": "commercial-burden",
   "metadata": {},
   "outputs": [
    {
     "data": {
      "image/png": "[encoded data removed]",
      "text/plain": [
       "<Figure size 432x288 with 1 Axes>"
      ]
     },
     "metadata": {
      "needs_background": "light"
     },
     "output_type": "display_data"
    }
   ],
   "source": [
    "train_acc = train_history.history['accuracy']\n",
    "validation_acc = train_history.history[\"val_accuracy\"]\n",
    "\n",
    "plt.plot(epochs, train_acc, 'b', label='Training accuracy')\n",
    "plt.plot(epochs, validation_acc, 'r', label='Validation accuracy')\n",
    "plt.title('Training and validation accuracy')\n",
    "plt.xlabel('Epochs')\n",
    "plt.ylabel('Accuracy')\n",
    "plt.legend()\n",
    "plt.show()"
   ]
  },
  {
   "cell_type": "markdown",
   "id": "cultural-allen",
   "metadata": {},
   "source": [
    "### Last model without regularizers and simple sgd optimizer  "
   ]
  },
  {
   "cell_type": "code",
   "execution_count": 25,
   "id": "lesbian-madagascar",
   "metadata": {},
   "outputs": [
    {
     "name": "stdout",
     "output_type": "stream",
     "text": [
      "Model: \"sequential_3\"\n",
      "_________________________________________________________________\n",
      "Layer (type)                 Output Shape              Param #   \n",
      "=================================================================\n",
      "dense_14 (Dense)             (None, 50)                500050    \n",
      "_________________________________________________________________\n",
      "dropout_8 (Dropout)          (None, 50)                0         \n",
      "_________________________________________________________________\n",
      "dense_15 (Dense)             (None, 50)                2550      \n",
      "_________________________________________________________________\n",
      "dropout_9 (Dropout)          (None, 50)                0         \n",
      "_________________________________________________________________\n",
      "dense_16 (Dense)             (None, 25)                1275      \n",
      "_________________________________________________________________\n",
      "dense_17 (Dense)             (None, 1)                 26        \n",
      "=================================================================\n",
      "Total params: 503,901\n",
      "Trainable params: 503,901\n",
      "Non-trainable params: 0\n",
      "_________________________________________________________________\n"
     ]
    }
   ],
   "source": [
    "model = models.Sequential()\n",
    "# Input layer\n",
    "model.add(layers.Dense(50, activation = \"relu\", input_shape=(10000, )))\n",
    "# Hidden layers\n",
    "model.add(layers.Dropout(0.2, noise_shape=None, seed=None))\n",
    "model.add(layers.Dense(50, activation = \"relu\"))\n",
    "model.add(layers.Dropout(0.3, noise_shape=None, seed=None))\n",
    "model.add(layers.Dense(25, activation = \"relu\"))\n",
    "# Output layer\n",
    "model.add(layers.Dense(1, activation = \"sigmoid\"))\n",
    "model.summary()"
   ]
  },
  {
   "cell_type": "code",
   "execution_count": 26,
   "id": "utility-equilibrium",
   "metadata": {},
   "outputs": [
    {
     "name": "stdout",
     "output_type": "stream",
     "text": [
      "Epoch 1/10\n",
      "125/125 [==============================] - 2s 14ms/step - loss: 0.6920 - accuracy: 0.5188 - val_loss: 0.6899 - val_accuracy: 0.5526\n",
      "Epoch 2/10\n",
      "125/125 [==============================] - 1s 10ms/step - loss: 0.6881 - accuracy: 0.5531 - val_loss: 0.6828 - val_accuracy: 0.5922\n",
      "Epoch 3/10\n",
      "125/125 [==============================] - 1s 10ms/step - loss: 0.6798 - accuracy: 0.5972 - val_loss: 0.6699 - val_accuracy: 0.6466\n",
      "Epoch 4/10\n",
      "125/125 [==============================] - 1s 10ms/step - loss: 0.6655 - accuracy: 0.6454 - val_loss: 0.6476 - val_accuracy: 0.7113\n",
      "Epoch 5/10\n",
      "125/125 [==============================] - 1s 10ms/step - loss: 0.6418 - accuracy: 0.6924 - val_loss: 0.6127 - val_accuracy: 0.7552\n",
      "Epoch 6/10\n",
      "125/125 [==============================] - 1s 10ms/step - loss: 0.6063 - accuracy: 0.7282 - val_loss: 0.5642 - val_accuracy: 0.7841\n",
      "Epoch 7/10\n",
      "125/125 [==============================] - 1s 10ms/step - loss: 0.5593 - accuracy: 0.7623 - val_loss: 0.5074 - val_accuracy: 0.8104\n",
      "Epoch 8/10\n",
      "125/125 [==============================] - 1s 10ms/step - loss: 0.5108 - accuracy: 0.7838 - val_loss: 0.4542 - val_accuracy: 0.8256\n",
      "Epoch 9/10\n",
      "125/125 [==============================] - 1s 10ms/step - loss: 0.4655 - accuracy: 0.8056 - val_loss: 0.4124 - val_accuracy: 0.8365\n",
      "Epoch 10/10\n",
      "125/125 [==============================] - 1s 10ms/step - loss: 0.4277 - accuracy: 0.8244 - val_loss: 0.3825 - val_accuracy: 0.8467\n"
     ]
    }
   ],
   "source": [
    "model.compile(\n",
    " optimizer = \"sgd\",\n",
    " loss = \"binary_crossentropy\",\n",
    " metrics = [\"accuracy\"]\n",
    ")\n",
    "\n",
    "train_history = model.fit(\n",
    " x_train, y_train,\n",
    " epochs= 10,\n",
    " batch_size = 200,\n",
    " validation_data = (x_test, y_test)\n",
    ")"
   ]
  },
  {
   "cell_type": "code",
   "execution_count": 27,
   "id": "instrumental-oliver",
   "metadata": {},
   "outputs": [
    {
     "name": "stdout",
     "output_type": "stream",
     "text": [
      "782/782 [==============================] - 2s 2ms/step - loss: 0.3825 - accuracy: 0.8467\n"
     ]
    },
    {
     "data": {
      "text/plain": [
       "[0.38249996304512024, 0.8466799855232239]"
      ]
     },
     "execution_count": 27,
     "metadata": {},
     "output_type": "execute_result"
    }
   ],
   "source": [
    "results = model.evaluate(x_test, y_test, verbose=1)\n",
    "results"
   ]
  },
  {
   "cell_type": "code",
   "execution_count": 28,
   "id": "hourly-corner",
   "metadata": {},
   "outputs": [
    {
     "data": {
      "image/png": "[encoded data removed]",
      "text/plain": [
       "<Figure size 432x288 with 1 Axes>"
      ]
     },
     "metadata": {
      "needs_background": "light"
     },
     "output_type": "display_data"
    }
   ],
   "source": [
    "loss_values = train_history.history[\"loss\"]\n",
    "validation_loss_val = train_history.history[\"val_loss\"]\n",
    "\n",
    "epochs = range(1, 11)\n",
    "\n",
    "plt.plot(epochs, loss_values, 'b', label='Training loss')\n",
    "plt.plot(epochs, validation_loss_val, 'r', label='Validation loss')\n",
    "plt.title('Training and validation loss')\n",
    "plt.xlabel('Epochs')\n",
    "plt.ylabel('Loss')\n",
    "plt.legend()\n",
    "plt.show()"
   ]
  },
  {
   "cell_type": "code",
   "execution_count": 29,
   "id": "operational-natural",
   "metadata": {},
   "outputs": [
    {
     "data": {
      "image/png": "[encoded data removed]",
      "text/plain": [
       "<Figure size 432x288 with 1 Axes>"
      ]
     },
     "metadata": {
      "needs_background": "light"
     },
     "output_type": "display_data"
    }
   ],
   "source": [
    "train_acc = train_history.history['accuracy']\n",
    "validation_acc = train_history.history[\"val_accuracy\"]\n",
    "\n",
    "plt.plot(epochs, train_acc, 'b', label='Training accuracy')\n",
    "plt.plot(epochs, validation_acc, 'r', label='Validation accuracy')\n",
    "plt.title('Training and validation accuracy')\n",
    "plt.xlabel('Epochs')\n",
    "plt.ylabel('Accuracy')\n",
    "plt.legend()\n",
    "plt.show()"
   ]
  },
  {
   "cell_type": "code",
   "execution_count": 30,
   "id": "decent-mirror",
   "metadata": {},
   "outputs": [
    {
     "name": "stdout",
     "output_type": "stream",
     "text": [
      "[0.5526000261306763, 0.592199981212616, 0.6466000080108643, 0.7112799882888794, 0.7551599740982056, 0.7840800285339355, 0.8104400038719177, 0.8256400227546692, 0.8364800214767456, 0.8466799855232239]\n"
     ]
    }
   ],
   "source": [
    "print(validation_acc)"
   ]
  },
  {
   "cell_type": "markdown",
   "id": "anonymous-cooling",
   "metadata": {},
   "source": [
    "1) Model SGD without regularizers L1, L2 gave result loss = 0.38249996304512024, accuracy =  0.8466799855232239\n",
    "\n",
    "2) Model Adagrad gave results loss = 11.68894100189209, accuracy = 0.698639988899231\n",
    "\n",
    "3) Model RMSprop gave results loss = 0.48517659306526184, accuracy = 0.8859599828720093\n",
    "\n",
    "4) Model Adam gave results loss = 0.5608053207397461,  accuracy = 0.8697999715805054\n",
    "\n",
    "From all these models definately the worst results was achived with usage of Adagrad optimizer.\n",
    "\n",
    "When it comes to accuracy (above 86%) the best results was achived via network with more hidden layers and Adam and RMS prop optimizers.\n",
    "\n",
    "Surprisingly, the best loss value was achived with SGD model withoot any L1 and L2 regularizers loss = 0.38249996304512024\n",
    "\n"
   ]
  }
 ],
 "metadata": {
  "kernelspec": {
   "display_name": "Python 3",
   "language": "python",
   "name": "python3"
  },
  "language_info": {
   "codemirror_mode": {
    "name": "ipython",
    "version": 3
   },
   "file_extension": ".py",
   "mimetype": "text/x-python",
   "name": "python",
   "nbconvert_exporter": "python",
   "pygments_lexer": "ipython3",
   "version": "3.8.8"
  }
 },
 "nbformat": 4,
 "nbformat_minor": 5
}
