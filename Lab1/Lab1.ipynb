{
 "cells": [
  {
   "cell_type": "code",
   "execution_count": 1,
   "id": "coordinated-preliminary",
   "metadata": {},
   "outputs": [],
   "source": [
    "import numpy as np"
   ]
  },
  {
   "cell_type": "code",
   "execution_count": 2,
   "id": "plain-cannon",
   "metadata": {},
   "outputs": [],
   "source": [
    "data= [[1.0, 0.08, 0.72, 1.0],\n",
    "       [1.0, 0.01, 1.00, 0.0],\n",
    "       [1.0, 0.26, 0.58, 1.0],\n",
    "       [1.0, 0.35, 0.95, 0.0],\n",
    "       [1.0, 0.45, 0.15, 1.0],\n",
    "       [1.0, 0.60, 0.30, 1.0],\n",
    "       [1.0, 0.70, 0.65, 0.0],\n",
    "       [1.0, 0.92, 0.45, 0.0]]\n",
    "bias = 0.20\n",
    "weights = [bias ,1.00, -1.00]"
   ]
  },
  {
   "cell_type": "code",
   "execution_count": 3,
   "id": "parallel-wagon",
   "metadata": {},
   "outputs": [],
   "source": [
    "def predict(samples, weights):\n",
    "    threshold = 0.0\n",
    "    total_activation = 0.0\n",
    "    for sample, weight in zip(samples, weights):\n",
    "        total_activation += sample * weight\n",
    "    return 1.0 if total_activation >= threshold else 0.0"
   ]
  },
  {
   "cell_type": "code",
   "execution_count": 4,
   "id": "equivalent-stroke",
   "metadata": {},
   "outputs": [],
   "source": [
    "def accuracy(data, weights):\n",
    "    num_correct = 0.0\n",
    "    predictions = []\n",
    "    for i in range(len(data)):\n",
    "        pred = predict(data[i][:-1], weights)\n",
    "        predictions.append(pred)\n",
    "        if pred == data[i][-1]: num_correct += 1.0\n",
    "    return(num_correct/float(len(data)))"
   ]
  },
  {
   "cell_type": "code",
   "execution_count": 5,
   "id": "global-cisco",
   "metadata": {},
   "outputs": [],
   "source": [
    "def train(data, weights, epochs=20, lr_rate=1.0):\n",
    "    for epoch in range(epochs):\n",
    "        acc = accuracy(data, weights)\n",
    "        print(\"\\n Results after epoch %d \\n weights values: \" %(epoch+1), weights)\n",
    "        print(\"Accuracy:\", acc)\n",
    "        if(acc == 1.0): break\n",
    "        for i in range(len(data)):\n",
    "            pred = predict(data[i][:-1], weights)\n",
    "            err = data[i][-1] - pred\n",
    "            for j in range (len(weights)):\n",
    "                weights[j]=weights[j]+(lr_rate * err * data[i][j])\n",
    "    return weights"
   ]
  },
  {
   "cell_type": "code",
   "execution_count": 6,
   "id": "rolled-superintendent",
   "metadata": {},
   "outputs": [
    {
     "name": "stdout",
     "output_type": "stream",
     "text": [
      "\n",
      " Results after epoch 1 \n",
      " weights values:  [0.2, 1.0, -1.0]\n",
      "Accuracy: 0.5\n",
      "\n",
      " Results after epoch 2 \n",
      " weights values:  [-0.8, 0.06000000000000005, -2.1]\n",
      "Accuracy: 0.5\n",
      "\n",
      " Results after epoch 3 \n",
      " weights values:  [0.19999999999999996, -0.19999999999999984, -2.25]\n",
      "Accuracy: 0.5\n",
      "\n",
      " Results after epoch 4 \n",
      " weights values:  [0.19999999999999996, -0.8199999999999998, -2.18]\n",
      "Accuracy: 0.5\n",
      "\n",
      " Results after epoch 5 \n",
      " weights values:  [1.2, -0.7399999999999999, -1.4600000000000002]\n",
      "Accuracy: 1.0\n"
     ]
    },
    {
     "data": {
      "text/plain": [
       "[1.2, -0.7399999999999999, -1.4600000000000002]"
      ]
     },
     "execution_count": 6,
     "metadata": {},
     "output_type": "execute_result"
    }
   ],
   "source": [
    "train(data, weights)"
   ]
  }
 ],
 "metadata": {
  "kernelspec": {
   "display_name": "Python 3",
   "language": "python",
   "name": "python3"
  },
  "language_info": {
   "codemirror_mode": {
    "name": "ipython",
    "version": 3
   },
   "file_extension": ".py",
   "mimetype": "text/x-python",
   "name": "python",
   "nbconvert_exporter": "python",
   "pygments_lexer": "ipython3",
   "version": "3.8.8"
  }
 },
 "nbformat": 4,
 "nbformat_minor": 5
}
