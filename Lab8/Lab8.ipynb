{
 "cells": [
  {
   "cell_type": "markdown",
   "id": "hybrid-australia",
   "metadata": {},
   "source": [
    "# IMDB Sentiment Classification with Keras NN with BatchNormalization"
   ]
  },
  {
   "cell_type": "markdown",
   "id": "tired-marshall",
   "metadata": {},
   "source": [
    "Import libraries"
   ]
  },
  {
   "cell_type": "code",
   "execution_count": 1,
   "id": "future-jackson",
   "metadata": {},
   "outputs": [],
   "source": [
    "import numpy as np\n",
    "from tensorflow.keras.utils import to_categorical\n",
    "from tensorflow.keras import models\n",
    "from tensorflow.keras import layers"
   ]
  },
  {
   "cell_type": "markdown",
   "id": "cooked-hebrew",
   "metadata": {},
   "source": [
    "### Import dataset"
   ]
  },
  {
   "cell_type": "code",
   "execution_count": 2,
   "id": "acoustic-covering",
   "metadata": {},
   "outputs": [
    {
     "name": "stderr",
     "output_type": "stream",
     "text": [
      "<__array_function__ internals>:5: VisibleDeprecationWarning: Creating an ndarray from ragged nested sequences (which is a list-or-tuple of lists-or-tuples-or ndarrays with different lengths or shapes) is deprecated. If you meant to do this, you must specify 'dtype=object' when creating the ndarray\n",
      "C:\\Users\\marek\\anaconda3\\lib\\site-packages\\tensorflow\\python\\keras\\datasets\\imdb.py:155: VisibleDeprecationWarning: Creating an ndarray from ragged nested sequences (which is a list-or-tuple of lists-or-tuples-or ndarrays with different lengths or shapes) is deprecated. If you meant to do this, you must specify 'dtype=object' when creating the ndarray\n",
      "  x_train, y_train = np.array(xs[:idx]), np.array(labels[:idx])\n",
      "C:\\Users\\marek\\anaconda3\\lib\\site-packages\\tensorflow\\python\\keras\\datasets\\imdb.py:156: VisibleDeprecationWarning: Creating an ndarray from ragged nested sequences (which is a list-or-tuple of lists-or-tuples-or ndarrays with different lengths or shapes) is deprecated. If you meant to do this, you must specify 'dtype=object' when creating the ndarray\n",
      "  x_test, y_test = np.array(xs[idx:]), np.array(labels[idx:])\n"
     ]
    }
   ],
   "source": [
    "from tensorflow.keras.datasets import imdb\n",
    "\n",
    "(train_data, train_target), (test_data, test_target) = imdb.load_data(num_words=10000)"
   ]
  },
  {
   "cell_type": "markdown",
   "id": "downtown-madness",
   "metadata": {},
   "source": [
    "Data shape"
   ]
  },
  {
   "cell_type": "code",
   "execution_count": 3,
   "id": "checked-badge",
   "metadata": {},
   "outputs": [
    {
     "name": "stdout",
     "output_type": "stream",
     "text": [
      "train_data : (25000,)\n",
      "train_target :  (25000,)\n",
      "\n",
      "test_data  (25000,)\n",
      "test_target  (25000,)\n"
     ]
    }
   ],
   "source": [
    "print(\"train_data :\", train_data.shape)\n",
    "print(\"train_target : \", train_target.shape)\n",
    "print(\"\\ntest_data \", test_data.shape)\n",
    "print(\"test_target \", test_target.shape)"
   ]
  },
  {
   "cell_type": "markdown",
   "id": "complex-stephen",
   "metadata": {},
   "source": [
    "Data statistics"
   ]
  },
  {
   "cell_type": "code",
   "execution_count": 4,
   "id": "musical-doubt",
   "metadata": {},
   "outputs": [
    {
     "name": "stdout",
     "output_type": "stream",
     "text": [
      "Categories: [0 1]\n",
      "Average Review length: 238.71364\n",
      "Standard Deviation: 176\n",
      "Maximum value of a word index:  9999\n",
      "Maximum length num words of review in train : 2494\n"
     ]
    }
   ],
   "source": [
    "print(\"Categories:\", np.unique(train_target))\n",
    "length = [len(i) for i in train_data]\n",
    "print(\"Average Review length:\", np.mean(length))\n",
    "print(\"Standard Deviation:\", round(np.std(length)))\n",
    "print(\"Maximum value of a word index: \", max([max(sequence) for sequence in train_data]))\n",
    "print(\"Maximum length num words of review in train :\", max([len(sequence) for sequence in train_data]))   "
   ]
  },
  {
   "cell_type": "markdown",
   "id": "eligible-glory",
   "metadata": {},
   "source": [
    "Representation of data"
   ]
  },
  {
   "cell_type": "code",
   "execution_count": 5,
   "id": "specialized-wrapping",
   "metadata": {},
   "outputs": [
    {
     "name": "stdout",
     "output_type": "stream",
     "text": [
      "Label: 1\n"
     ]
    }
   ],
   "source": [
    "print(\"Label:\", train_target[0])"
   ]
  },
  {
   "cell_type": "code",
   "execution_count": 6,
   "id": "annual-joint",
   "metadata": {},
   "outputs": [
    {
     "name": "stdout",
     "output_type": "stream",
     "text": [
      "[1, 14, 22, 16, 43, 530, 973, 1622, 1385, 65, 458, 4468, 66, 3941, 4, 173, 36, 256, 5, 25, 100, 43, 838, 112, 50, 670, 2, 9, 35, 480, 284, 5, 150, 4, 172, 112, 167, 2, 336, 385, 39, 4, 172, 4536, 1111, 17, 546, 38, 13, 447, 4, 192, 50, 16, 6, 147, 2025, 19, 14, 22, 4, 1920, 4613, 469, 4, 22, 71, 87, 12, 16, 43, 530, 38, 76, 15, 13, 1247, 4, 22, 17, 515, 17, 12, 16, 626, 18, 2, 5, 62, 386, 12, 8, 316, 8, 106, 5, 4, 2223, 5244, 16, 480, 66, 3785, 33, 4, 130, 12, 16, 38, 619, 5, 25, 124, 51, 36, 135, 48, 25, 1415, 33, 6, 22, 12, 215, 28, 77, 52, 5, 14, 407, 16, 82, 2, 8, 4, 107, 117, 5952, 15, 256, 4, 2, 7, 3766, 5, 723, 36, 71, 43, 530, 476, 26, 400, 317, 46, 7, 4, 2, 1029, 13, 104, 88, 4, 381, 15, 297, 98, 32, 2071, 56, 26, 141, 6, 194, 7486, 18, 4, 226, 22, 21, 134, 476, 26, 480, 5, 144, 30, 5535, 18, 51, 36, 28, 224, 92, 25, 104, 4, 226, 65, 16, 38, 1334, 88, 12, 16, 283, 5, 16, 4472, 113, 103, 32, 15, 16, 5345, 19, 178, 32]\n"
     ]
    }
   ],
   "source": [
    "print(train_data[0])"
   ]
  },
  {
   "cell_type": "markdown",
   "id": "binary-economy",
   "metadata": {},
   "source": [
    "See actual review in words"
   ]
  },
  {
   "cell_type": "code",
   "execution_count": 7,
   "id": "imported-corruption",
   "metadata": {},
   "outputs": [
    {
     "name": "stdout",
     "output_type": "stream",
     "text": [
      "# big hair big boobs bad music and a giant safety pin these are the words to best describe this terrible movie i love cheesy horror movies and i've seen hundreds but this had got to be on of the worst ever made the plot is paper thin and ridiculous the acting is an abomination the script is completely laughable the best is the end showdown with the cop and how he worked out who the killer is it's just so damn terribly written the clothes are sickening and funny in equal # the hair is big lots of boobs # men wear those cut # shirts that show off their # sickening that men actually wore them and the music is just # trash that plays over and over again in almost every scene there is trashy music boobs and # taking away bodies and the gym still doesn't close for # all joking aside this is a truly bad film whose only charm is to look back on the disaster that was the 80's and have a good old laugh at how bad everything was back then\n"
     ]
    }
   ],
   "source": [
    "index = imdb.get_word_index()\n",
    "reverse_index = dict([(value, key) for (key, value) in index.items()]) \n",
    "decoded = \" \".join( [reverse_index.get(i - 3, \"#\") for i in train_data[1]] )\n",
    "print(decoded) "
   ]
  },
  {
   "cell_type": "markdown",
   "id": "indian-tooth",
   "metadata": {},
   "source": [
    "### Data preparation"
   ]
  },
  {
   "cell_type": "markdown",
   "id": "stylish-listening",
   "metadata": {},
   "source": [
    "Encoding integer sequence into binary matrix using one hot encoder\n",
    "\n",
    "From integers which represents words to normalised one hot encoded tensor (matrix) of 10 thousand columns"
   ]
  },
  {
   "cell_type": "code",
   "execution_count": 8,
   "id": "suspected-analysis",
   "metadata": {},
   "outputs": [],
   "source": [
    "def vectorize(sequences, dimension = 10000):\n",
    "    results = np.zeros((len(sequences), dimension))\n",
    "    for i, sequence in enumerate(sequences):\n",
    "        results[i, sequence] = 1\n",
    "    return results\n",
    " \n",
    "x_train = vectorize(train_data)\n",
    "y_train = np.array(train_target).astype(\"float32\")\n",
    "x_test = vectorize(test_data)\n",
    "y_test = np.array(test_target).astype(\"float32\")"
   ]
  },
  {
   "cell_type": "code",
   "execution_count": 9,
   "id": "bright-watch",
   "metadata": {},
   "outputs": [
    {
     "name": "stdout",
     "output_type": "stream",
     "text": [
      "10000\n"
     ]
    }
   ],
   "source": [
    "print(x_test[0].size)"
   ]
  },
  {
   "cell_type": "code",
   "execution_count": 10,
   "id": "finished-original",
   "metadata": {},
   "outputs": [
    {
     "name": "stdout",
     "output_type": "stream",
     "text": [
      "Model: \"sequential\"\n",
      "_________________________________________________________________\n",
      "Layer (type)                 Output Shape              Param #   \n",
      "=================================================================\n",
      "dense (Dense)                (None, 50)                500050    \n",
      "_________________________________________________________________\n",
      "batch_normalization (BatchNo (None, 50)                200       \n",
      "_________________________________________________________________\n",
      "dropout (Dropout)            (None, 50)                0         \n",
      "_________________________________________________________________\n",
      "batch_normalization_1 (Batch (None, 50)                200       \n",
      "_________________________________________________________________\n",
      "dense_1 (Dense)              (None, 50)                2550      \n",
      "_________________________________________________________________\n",
      "dropout_1 (Dropout)          (None, 50)                0         \n",
      "_________________________________________________________________\n",
      "batch_normalization_2 (Batch (None, 50)                200       \n",
      "_________________________________________________________________\n",
      "dense_2 (Dense)              (None, 50)                2550      \n",
      "_________________________________________________________________\n",
      "dropout_2 (Dropout)          (None, 50)                0         \n",
      "_________________________________________________________________\n",
      "batch_normalization_3 (Batch (None, 50)                200       \n",
      "_________________________________________________________________\n",
      "dense_3 (Dense)              (None, 25)                1275      \n",
      "_________________________________________________________________\n",
      "dropout_3 (Dropout)          (None, 25)                0         \n",
      "_________________________________________________________________\n",
      "dense_4 (Dense)              (None, 1)                 26        \n",
      "=================================================================\n",
      "Total params: 507,251\n",
      "Trainable params: 506,851\n",
      "Non-trainable params: 400\n",
      "_________________________________________________________________\n"
     ]
    }
   ],
   "source": [
    "from tensorflow.keras import regularizers\n",
    "from tensorflow.keras.layers import BatchNormalization\n",
    "\n",
    "model = models.Sequential()\n",
    "# Input layer\n",
    "model.add(layers.Dense(50, activation = \"relu\", input_shape=(10000, )))\n",
    "model.add(BatchNormalization(epsilon=0.001))\n",
    "model.add(layers.Dropout(0.3, noise_shape=None, seed=None))\n",
    "# Hidden layers\n",
    "model.add(BatchNormalization(epsilon=0.001))\n",
    "model.add(layers.Dense(50,  kernel_regularizer=regularizers.l1_l2(l1=0.001, l2=0.001), activation = \"relu\"))\n",
    "model.add(layers.Dropout(0.2, noise_shape=None, seed=None))\n",
    "\n",
    "model.add(BatchNormalization(epsilon=0.001))\n",
    "model.add(layers.Dense(50,  kernel_regularizer=regularizers.l1_l2(l1=0.001, l2=0.002),  activation = \"relu\"))\n",
    "model.add(layers.Dropout(0.3, noise_shape=None, seed=None))\n",
    "\n",
    "model.add(BatchNormalization(epsilon=0.001))\n",
    "model.add(layers.Dense(25,  kernel_regularizer=regularizers.l1_l2(l1=0.001, l2=0.003),  activation = \"relu\"))\n",
    "model.add(layers.Dropout(0.3, noise_shape=None, seed=None))\n",
    "\n",
    "# Output layer\n",
    "model.add(layers.Dense(1, activation = \"sigmoid\"))\n",
    "model.summary()"
   ]
  },
  {
   "cell_type": "code",
   "execution_count": 11,
   "id": "abandoned-astrology",
   "metadata": {},
   "outputs": [
    {
     "name": "stdout",
     "output_type": "stream",
     "text": [
      "Epoch 1/100\n",
      "100/100 [==============================] - 5s 23ms/step - loss: 1.4855 - accuracy: 0.7038 - val_loss: 1.2861 - val_accuracy: 0.8638\n",
      "Epoch 2/100\n",
      "100/100 [==============================] - 1s 15ms/step - loss: 0.9925 - accuracy: 0.8910 - val_loss: 0.9487 - val_accuracy: 0.8793\n",
      "Epoch 3/100\n",
      "100/100 [==============================] - 1s 15ms/step - loss: 0.7032 - accuracy: 0.9250 - val_loss: 0.7184 - val_accuracy: 0.8704\n",
      "Epoch 4/100\n",
      "100/100 [==============================] - 1s 15ms/step - loss: 0.4792 - accuracy: 0.9484 - val_loss: 0.6009 - val_accuracy: 0.8532\n",
      "Epoch 5/100\n",
      "100/100 [==============================] - 2s 16ms/step - loss: 0.3251 - accuracy: 0.9619 - val_loss: 0.4892 - val_accuracy: 0.8651\n",
      "Epoch 6/100\n",
      "100/100 [==============================] - 2s 16ms/step - loss: 0.2290 - accuracy: 0.9690 - val_loss: 0.4568 - val_accuracy: 0.8573\n",
      "Epoch 7/100\n",
      "100/100 [==============================] - 1s 15ms/step - loss: 0.1804 - accuracy: 0.9727 - val_loss: 0.4271 - val_accuracy: 0.8633\n",
      "Epoch 8/100\n",
      "100/100 [==============================] - 2s 15ms/step - loss: 0.1492 - accuracy: 0.9769 - val_loss: 0.4320 - val_accuracy: 0.8636\n",
      "Epoch 9/100\n",
      "100/100 [==============================] - 1s 15ms/step - loss: 0.1316 - accuracy: 0.9796 - val_loss: 0.4560 - val_accuracy: 0.8624\n",
      "Epoch 10/100\n",
      "100/100 [==============================] - 1s 14ms/step - loss: 0.1185 - accuracy: 0.9806 - val_loss: 0.4823 - val_accuracy: 0.8642\n",
      "Epoch 11/100\n",
      "100/100 [==============================] - 1s 14ms/step - loss: 0.1103 - accuracy: 0.9823 - val_loss: 0.5077 - val_accuracy: 0.8597\n",
      "Epoch 12/100\n",
      "100/100 [==============================] - 2s 15ms/step - loss: 0.0944 - accuracy: 0.9863 - val_loss: 0.5392 - val_accuracy: 0.8605\n",
      "Epoch 13/100\n",
      "100/100 [==============================] - 1s 14ms/step - loss: 0.0885 - accuracy: 0.9872 - val_loss: 0.5163 - val_accuracy: 0.8610\n",
      "Epoch 14/100\n",
      "100/100 [==============================] - 1s 15ms/step - loss: 0.0927 - accuracy: 0.9854 - val_loss: 0.5291 - val_accuracy: 0.8612\n",
      "Epoch 15/100\n",
      "100/100 [==============================] - 1s 14ms/step - loss: 0.0876 - accuracy: 0.9867 - val_loss: 0.5203 - val_accuracy: 0.8626\n",
      "Epoch 16/100\n",
      "100/100 [==============================] - 1s 14ms/step - loss: 0.0824 - accuracy: 0.9882 - val_loss: 0.5627 - val_accuracy: 0.8618\n",
      "Epoch 17/100\n",
      "100/100 [==============================] - 1s 14ms/step - loss: 0.0787 - accuracy: 0.9884 - val_loss: 0.5787 - val_accuracy: 0.8618\n",
      "Epoch 18/100\n",
      "100/100 [==============================] - 1s 14ms/step - loss: 0.0684 - accuracy: 0.9912 - val_loss: 0.5744 - val_accuracy: 0.8613\n",
      "Epoch 19/100\n",
      "100/100 [==============================] - 1s 14ms/step - loss: 0.0708 - accuracy: 0.9895 - val_loss: 0.6061 - val_accuracy: 0.8592\n",
      "Epoch 20/100\n",
      "100/100 [==============================] - 1s 14ms/step - loss: 0.0686 - accuracy: 0.9903 - val_loss: 0.6381 - val_accuracy: 0.8608\n",
      "Epoch 21/100\n",
      "100/100 [==============================] - 1s 14ms/step - loss: 0.0690 - accuracy: 0.9906 - val_loss: 0.6241 - val_accuracy: 0.8595\n"
     ]
    }
   ],
   "source": [
    "from tensorflow.keras.callbacks import EarlyStopping\n",
    "\n",
    "model.compile(\n",
    " optimizer = \"adam\",\n",
    " loss = \"binary_crossentropy\",\n",
    " metrics = [\"accuracy\"]\n",
    ")\n",
    "train_history = model.fit(\n",
    " x_train, y_train,\n",
    " epochs= 100,\n",
    " batch_size = 250,\n",
    " validation_data = (x_test, y_test),\n",
    " callbacks = [EarlyStopping(monitor='loss', patience=3)]\n",
    ")"
   ]
  },
  {
   "cell_type": "code",
   "execution_count": 12,
   "id": "sacred-broad",
   "metadata": {},
   "outputs": [
    {
     "name": "stdout",
     "output_type": "stream",
     "text": [
      "782/782 [==============================] - 3s 3ms/step - loss: 0.6241 - accuracy: 0.8595\n"
     ]
    },
    {
     "data": {
      "text/plain": [
       "[0.6241327524185181, 0.8594800233840942]"
      ]
     },
     "execution_count": 12,
     "metadata": {},
     "output_type": "execute_result"
    }
   ],
   "source": [
    "results = model.evaluate(x_test, y_test, verbose=1)\n",
    "results"
   ]
  },
  {
   "cell_type": "code",
   "execution_count": 13,
   "id": "closing-teddy",
   "metadata": {},
   "outputs": [
    {
     "data": {
      "image/png": "[encoded data removed]",
      "text/plain": [
       "<Figure size 432x288 with 1 Axes>"
      ]
     },
     "metadata": {
      "needs_background": "light"
     },
     "output_type": "display_data"
    }
   ],
   "source": [
    "import matplotlib.pyplot as plt\n",
    "\n",
    "loss_values = train_history.history[\"loss\"]\n",
    "validation_loss_val = train_history.history[\"val_loss\"]\n",
    "\n",
    "epochs = range(1, len(loss_values) + 1)\n",
    "\n",
    "plt.plot(epochs, loss_values, 'b', label='Training loss')\n",
    "plt.plot(epochs, validation_loss_val, 'r', label='Validation loss')\n",
    "plt.title('Training and validation loss')\n",
    "plt.xlabel('Epochs')\n",
    "plt.ylabel('Loss')\n",
    "plt.legend()\n",
    "plt.show()"
   ]
  },
  {
   "cell_type": "code",
   "execution_count": 14,
   "id": "small-oasis",
   "metadata": {
    "scrolled": true
   },
   "outputs": [
    {
     "data": {
      "image/png": "[encoded data removed]",
      "text/plain": [
       "<Figure size 432x288 with 1 Axes>"
      ]
     },
     "metadata": {
      "needs_background": "light"
     },
     "output_type": "display_data"
    }
   ],
   "source": [
    "train_acc = train_history.history['accuracy']\n",
    "validation_acc = train_history.history[\"val_accuracy\"]\n",
    "\n",
    "plt.plot(epochs, train_acc, 'b', label='Training accuracy')\n",
    "plt.plot(epochs, validation_acc, 'r', label='Validation accuracy')\n",
    "plt.title('Training and validation accuracy')\n",
    "plt.xlabel('Epochs')\n",
    "plt.ylabel('Accuracy')\n",
    "plt.legend()\n",
    "plt.show()"
   ]
  },
  {
   "cell_type": "code",
   "execution_count": 15,
   "id": "cosmetic-injury",
   "metadata": {},
   "outputs": [
    {
     "name": "stdout",
     "output_type": "stream",
     "text": [
      "Epoch 1/100\n",
      "250/250 [==============================] - 5s 16ms/step - loss: 0.0949 - accuracy: 0.9830 - val_loss: 0.6049 - val_accuracy: 0.8587\n",
      "Epoch 2/100\n",
      "250/250 [==============================] - 4s 15ms/step - loss: 0.1034 - accuracy: 0.9806 - val_loss: 0.5463 - val_accuracy: 0.8576\n",
      "Epoch 3/100\n",
      "250/250 [==============================] - 3s 14ms/step - loss: 0.0936 - accuracy: 0.9817 - val_loss: 0.5467 - val_accuracy: 0.8561\n",
      "Epoch 4/100\n",
      "250/250 [==============================] - 3s 14ms/step - loss: 0.0921 - accuracy: 0.9819 - val_loss: 0.5431 - val_accuracy: 0.8577\n",
      "Epoch 5/100\n",
      "250/250 [==============================] - 3s 14ms/step - loss: 0.0870 - accuracy: 0.9838 - val_loss: 0.5709 - val_accuracy: 0.8564\n",
      "Epoch 6/100\n",
      "250/250 [==============================] - 3s 14ms/step - loss: 0.0841 - accuracy: 0.9850 - val_loss: 0.5857 - val_accuracy: 0.8563\n",
      "Epoch 7/100\n",
      "250/250 [==============================] - 3s 14ms/step - loss: 0.0782 - accuracy: 0.9872 - val_loss: 0.5769 - val_accuracy: 0.8598\n",
      "Epoch 8/100\n",
      "250/250 [==============================] - 4s 14ms/step - loss: 0.0759 - accuracy: 0.9872 - val_loss: 0.6548 - val_accuracy: 0.8601\n",
      "Epoch 9/100\n",
      "250/250 [==============================] - 4s 14ms/step - loss: 0.0720 - accuracy: 0.9892 - val_loss: 0.6406 - val_accuracy: 0.8615\n",
      "Epoch 10/100\n",
      "250/250 [==============================] - 3s 14ms/step - loss: 0.0771 - accuracy: 0.9875 - val_loss: 0.6360 - val_accuracy: 0.8574\n",
      "Epoch 11/100\n",
      "250/250 [==============================] - 4s 14ms/step - loss: 0.0762 - accuracy: 0.9867 - val_loss: 0.5841 - val_accuracy: 0.8611\n",
      "Epoch 12/100\n",
      "250/250 [==============================] - 4s 16ms/step - loss: 0.0711 - accuracy: 0.9889 - val_loss: 0.6490 - val_accuracy: 0.8590\n",
      "Epoch 13/100\n",
      "250/250 [==============================] - 4s 14ms/step - loss: 0.0726 - accuracy: 0.9881 - val_loss: 0.5956 - val_accuracy: 0.8612\n",
      "Epoch 14/100\n",
      "250/250 [==============================] - 3s 13ms/step - loss: 0.0689 - accuracy: 0.9900 - val_loss: 0.6337 - val_accuracy: 0.8584\n",
      "Epoch 15/100\n",
      "250/250 [==============================] - 3s 14ms/step - loss: 0.0653 - accuracy: 0.9910 - val_loss: 0.7084 - val_accuracy: 0.8617\n",
      "Epoch 16/100\n",
      "250/250 [==============================] - 3s 13ms/step - loss: 0.0726 - accuracy: 0.9892 - val_loss: 0.6673 - val_accuracy: 0.8640\n",
      "Epoch 17/100\n",
      "250/250 [==============================] - 3s 13ms/step - loss: 0.0656 - accuracy: 0.9914 - val_loss: 0.5978 - val_accuracy: 0.8599\n",
      "Epoch 18/100\n",
      "250/250 [==============================] - 3s 13ms/step - loss: 0.0655 - accuracy: 0.9899 - val_loss: 0.6567 - val_accuracy: 0.8602\n"
     ]
    }
   ],
   "source": [
    "model.compile(\n",
    " optimizer = \"adam\",\n",
    " loss = \"binary_crossentropy\",\n",
    " metrics = [\"accuracy\"]\n",
    ")\n",
    "train_history = model.fit(\n",
    " x_train, y_train,\n",
    " epochs= 100,\n",
    " batch_size = 100,\n",
    " validation_data = (x_test, y_test),\n",
    " callbacks = [EarlyStopping(monitor='loss', patience=3)]\n",
    ")"
   ]
  },
  {
   "cell_type": "code",
   "execution_count": 16,
   "id": "constitutional-barrel",
   "metadata": {},
   "outputs": [
    {
     "name": "stdout",
     "output_type": "stream",
     "text": [
      "782/782 [==============================] - 3s 4ms/step - loss: 0.6567 - accuracy: 0.8602\n"
     ]
    },
    {
     "data": {
      "text/plain": [
       "[0.6566827297210693, 0.8601599931716919]"
      ]
     },
     "execution_count": 16,
     "metadata": {},
     "output_type": "execute_result"
    }
   ],
   "source": [
    "results = model.evaluate(x_test, y_test, verbose=1)\n",
    "results"
   ]
  },
  {
   "cell_type": "code",
   "execution_count": 17,
   "id": "usual-artwork",
   "metadata": {},
   "outputs": [
    {
     "name": "stdout",
     "output_type": "stream",
     "text": [
      "Model: \"sequential_1\"\n",
      "_________________________________________________________________\n",
      "Layer (type)                 Output Shape              Param #   \n",
      "=================================================================\n",
      "dense_5 (Dense)              (None, 50)                500050    \n",
      "_________________________________________________________________\n",
      "dropout_4 (Dropout)          (None, 50)                0         \n",
      "_________________________________________________________________\n",
      "dense_6 (Dense)              (None, 50)                2550      \n",
      "_________________________________________________________________\n",
      "dropout_5 (Dropout)          (None, 50)                0         \n",
      "_________________________________________________________________\n",
      "batch_normalization_4 (Batch (None, 50)                200       \n",
      "_________________________________________________________________\n",
      "dense_7 (Dense)              (None, 50)                2550      \n",
      "_________________________________________________________________\n",
      "dropout_6 (Dropout)          (None, 50)                0         \n",
      "_________________________________________________________________\n",
      "batch_normalization_5 (Batch (None, 50)                200       \n",
      "_________________________________________________________________\n",
      "dense_8 (Dense)              (None, 25)                1275      \n",
      "_________________________________________________________________\n",
      "batch_normalization_6 (Batch (None, 25)                100       \n",
      "_________________________________________________________________\n",
      "dense_9 (Dense)              (None, 1)                 26        \n",
      "=================================================================\n",
      "Total params: 506,951\n",
      "Trainable params: 506,701\n",
      "Non-trainable params: 250\n",
      "_________________________________________________________________\n"
     ]
    }
   ],
   "source": [
    "model = models.Sequential()\n",
    "# Input layer\n",
    "model.add(layers.Dense(50, activation = \"relu\", input_shape=(10000, )))\n",
    "model.add(layers.Dropout(0.3, noise_shape=None, seed=None))\n",
    "# Hidden layers\n",
    "model.add(layers.Dense(50,  kernel_regularizer=regularizers.l1_l2(l1=0.001, l2=0.001), activation = \"relu\"))\n",
    "model.add(layers.Dropout(0.2, noise_shape=None, seed=None))\n",
    "model.add(BatchNormalization(epsilon=0.001))\n",
    "\n",
    "model.add(layers.Dense(50,  kernel_regularizer=regularizers.l1_l2(l1=0.001, l2=0.002),  activation = \"relu\"))\n",
    "model.add(layers.Dropout(0.3, noise_shape=None, seed=None))\n",
    "model.add(BatchNormalization(epsilon=0.001))\n",
    "\n",
    "model.add(layers.Dense(25,  kernel_regularizer=regularizers.l1_l2(l1=0.001, l2=0.003),  activation = \"relu\"))\n",
    "model.add(BatchNormalization(epsilon=0.001))\n",
    "\n",
    "# Output layer\n",
    "model.add(layers.Dense(1, activation = \"sigmoid\"))\n",
    "model.summary()"
   ]
  },
  {
   "cell_type": "code",
   "execution_count": 18,
   "id": "strategic-depression",
   "metadata": {},
   "outputs": [
    {
     "name": "stdout",
     "output_type": "stream",
     "text": [
      "Epoch 1/100\n",
      "200/200 [==============================] - 4s 13ms/step - loss: 1.3968 - accuracy: 0.7548 - val_loss: 1.1262 - val_accuracy: 0.8744\n",
      "Epoch 2/100\n",
      "200/200 [==============================] - 2s 12ms/step - loss: 0.8536 - accuracy: 0.8956 - val_loss: 0.7585 - val_accuracy: 0.8773\n",
      "Epoch 3/100\n",
      "200/200 [==============================] - 2s 12ms/step - loss: 0.5297 - accuracy: 0.9337 - val_loss: 0.5620 - val_accuracy: 0.8684\n",
      "Epoch 4/100\n",
      "200/200 [==============================] - 2s 12ms/step - loss: 0.3260 - accuracy: 0.9506 - val_loss: 0.4393 - val_accuracy: 0.8715\n",
      "Epoch 5/100\n",
      "200/200 [==============================] - 2s 12ms/step - loss: 0.2139 - accuracy: 0.9611 - val_loss: 0.4307 - val_accuracy: 0.8624\n",
      "Epoch 6/100\n",
      "200/200 [==============================] - 2s 10ms/step - loss: 0.1596 - accuracy: 0.9676 - val_loss: 0.3852 - val_accuracy: 0.8660\n",
      "Epoch 7/100\n",
      "200/200 [==============================] - 2s 11ms/step - loss: 0.1230 - accuracy: 0.9730 - val_loss: 0.4093 - val_accuracy: 0.8680\n",
      "Epoch 8/100\n",
      "200/200 [==============================] - 2s 12ms/step - loss: 0.1096 - accuracy: 0.9758 - val_loss: 0.5190 - val_accuracy: 0.8635\n",
      "Epoch 9/100\n",
      "200/200 [==============================] - 2s 12ms/step - loss: 0.1023 - accuracy: 0.9764 - val_loss: 0.4512 - val_accuracy: 0.8631\n",
      "Epoch 10/100\n",
      "200/200 [==============================] - 2s 12ms/step - loss: 0.0902 - accuracy: 0.9801 - val_loss: 0.5338 - val_accuracy: 0.8641\n",
      "Epoch 11/100\n",
      "200/200 [==============================] - 3s 13ms/step - loss: 0.0851 - accuracy: 0.9811 - val_loss: 0.4299 - val_accuracy: 0.8628\n",
      "Epoch 12/100\n",
      "200/200 [==============================] - 2s 12ms/step - loss: 0.0833 - accuracy: 0.9809 - val_loss: 0.4692 - val_accuracy: 0.8625\n",
      "Epoch 13/100\n",
      "200/200 [==============================] - 3s 13ms/step - loss: 0.0780 - accuracy: 0.9824 - val_loss: 0.4588 - val_accuracy: 0.8681\n",
      "Epoch 14/100\n",
      "200/200 [==============================] - 3s 13ms/step - loss: 0.0749 - accuracy: 0.9834 - val_loss: 0.5728 - val_accuracy: 0.8655\n",
      "Epoch 15/100\n",
      "200/200 [==============================] - 3s 15ms/step - loss: 0.0714 - accuracy: 0.9840 - val_loss: 0.7807 - val_accuracy: 0.8654\n",
      "Epoch 16/100\n",
      "200/200 [==============================] - 3s 16ms/step - loss: 0.0706 - accuracy: 0.9855 - val_loss: 0.5399 - val_accuracy: 0.8671\n",
      "Epoch 17/100\n",
      "200/200 [==============================] - 3s 17ms/step - loss: 0.0662 - accuracy: 0.9856 - val_loss: 0.6782 - val_accuracy: 0.8666\n",
      "Epoch 18/100\n",
      "200/200 [==============================] - 3s 17ms/step - loss: 0.0636 - accuracy: 0.9864 - val_loss: 0.7047 - val_accuracy: 0.8674\n",
      "Epoch 19/100\n",
      "200/200 [==============================] - 4s 18ms/step - loss: 0.0628 - accuracy: 0.9870 - val_loss: 0.6931 - val_accuracy: 0.8651\n",
      "Epoch 20/100\n",
      "200/200 [==============================] - 3s 14ms/step - loss: 0.0619 - accuracy: 0.9884 - val_loss: 0.5927 - val_accuracy: 0.8592\n",
      "Epoch 21/100\n",
      "200/200 [==============================] - 3s 13ms/step - loss: 0.0590 - accuracy: 0.9884 - val_loss: 0.7351 - val_accuracy: 0.8644\n",
      "Epoch 22/100\n",
      "200/200 [==============================] - 3s 13ms/step - loss: 0.0582 - accuracy: 0.9880 - val_loss: 0.6228 - val_accuracy: 0.8600\n",
      "Epoch 23/100\n",
      "200/200 [==============================] - 3s 13ms/step - loss: 0.0604 - accuracy: 0.9877 - val_loss: 0.6058 - val_accuracy: 0.8619\n",
      "Epoch 24/100\n",
      "200/200 [==============================] - 3s 13ms/step - loss: 0.0565 - accuracy: 0.9894 - val_loss: 0.5617 - val_accuracy: 0.8636\n",
      "Epoch 25/100\n",
      "200/200 [==============================] - 3s 13ms/step - loss: 0.0568 - accuracy: 0.9883 - val_loss: 0.4791 - val_accuracy: 0.8702\n",
      "Epoch 26/100\n",
      "200/200 [==============================] - 3s 13ms/step - loss: 0.0511 - accuracy: 0.9898 - val_loss: 0.5720 - val_accuracy: 0.8688\n",
      "Epoch 27/100\n",
      "200/200 [==============================] - 2s 12ms/step - loss: 0.0536 - accuracy: 0.9887 - val_loss: 0.6004 - val_accuracy: 0.8666\n",
      "Epoch 28/100\n",
      "200/200 [==============================] - 3s 13ms/step - loss: 0.0495 - accuracy: 0.9905 - val_loss: 0.7158 - val_accuracy: 0.8642\n",
      "Epoch 29/100\n",
      "200/200 [==============================] - 2s 12ms/step - loss: 0.0492 - accuracy: 0.9908 - val_loss: 0.7158 - val_accuracy: 0.8674\n",
      "Epoch 30/100\n",
      "200/200 [==============================] - 3s 13ms/step - loss: 0.0444 - accuracy: 0.9917 - val_loss: 0.6104 - val_accuracy: 0.8650\n",
      "Epoch 31/100\n",
      "200/200 [==============================] - 3s 14ms/step - loss: 0.0496 - accuracy: 0.9901 - val_loss: 0.6239 - val_accuracy: 0.8619\n",
      "Epoch 32/100\n",
      "200/200 [==============================] - 3s 13ms/step - loss: 0.0452 - accuracy: 0.9925 - val_loss: 0.6117 - val_accuracy: 0.8668\n",
      "Epoch 33/100\n",
      "200/200 [==============================] - 3s 13ms/step - loss: 0.0473 - accuracy: 0.9902 - val_loss: 0.6438 - val_accuracy: 0.8664\n"
     ]
    }
   ],
   "source": [
    "model.compile(\n",
    " optimizer = \"adam\",\n",
    " loss = \"binary_crossentropy\",\n",
    " metrics = [\"accuracy\"]\n",
    ")\n",
    "train_history = model.fit(\n",
    " x_train, y_train,\n",
    " epochs= 100,\n",
    " batch_size = 125,\n",
    " validation_data = (x_test, y_test),\n",
    " callbacks = [EarlyStopping(monitor='loss', patience=3)]\n",
    ")"
   ]
  },
  {
   "cell_type": "code",
   "execution_count": 19,
   "id": "suspended-bridal",
   "metadata": {},
   "outputs": [
    {
     "name": "stdout",
     "output_type": "stream",
     "text": [
      "782/782 [==============================] - 4s 4ms/step - loss: 0.6438 - accuracy: 0.8664\n"
     ]
    },
    {
     "data": {
      "text/plain": [
       "[0.6437543630599976, 0.8664000034332275]"
      ]
     },
     "execution_count": 19,
     "metadata": {},
     "output_type": "execute_result"
    }
   ],
   "source": [
    "results = model.evaluate(x_test, y_test, verbose=1)\n",
    "results"
   ]
  },
  {
   "cell_type": "code",
   "execution_count": 20,
   "id": "lovely-dietary",
   "metadata": {},
   "outputs": [
    {
     "data": {
      "image/png": "[encoded data removed]",
      "text/plain": [
       "<Figure size 432x288 with 1 Axes>"
      ]
     },
     "metadata": {
      "needs_background": "light"
     },
     "output_type": "display_data"
    }
   ],
   "source": [
    "loss_values = train_history.history[\"loss\"]\n",
    "validation_loss_val = train_history.history[\"val_loss\"]\n",
    "\n",
    "epochs = range(1, len(loss_values) + 1)\n",
    "\n",
    "plt.plot(epochs, loss_values, 'b', label='Training loss')\n",
    "plt.plot(epochs, validation_loss_val, 'r', label='Validation loss')\n",
    "plt.title('Training and validation loss')\n",
    "plt.xlabel('Epochs')\n",
    "plt.ylabel('Loss')\n",
    "plt.legend()\n",
    "plt.show()"
   ]
  },
  {
   "cell_type": "code",
   "execution_count": 21,
   "id": "touched-terminal",
   "metadata": {},
   "outputs": [
    {
     "data": {
      "image/png": "[encoded data removed]",
      "text/plain": [
       "<Figure size 432x288 with 1 Axes>"
      ]
     },
     "metadata": {
      "needs_background": "light"
     },
     "output_type": "display_data"
    }
   ],
   "source": [
    "train_acc = train_history.history['accuracy']\n",
    "validation_acc = train_history.history[\"val_accuracy\"]\n",
    "\n",
    "plt.plot(epochs, train_acc, 'b', label='Training accuracy')\n",
    "plt.plot(epochs, validation_acc, 'r', label='Validation accuracy')\n",
    "plt.title('Training and validation accuracy')\n",
    "plt.xlabel('Epochs')\n",
    "plt.ylabel('Accuracy')\n",
    "plt.legend()\n",
    "plt.show()"
   ]
  },
  {
   "cell_type": "markdown",
   "id": "stunning-scanner",
   "metadata": {},
   "source": [
    "### Conclusions"
   ]
  },
  {
   "cell_type": "markdown",
   "id": "anonymous-cooling",
   "metadata": {},
   "source": [
    "Received results with different batch size, batch normalization before and after apply activation funtion seems to not have influence on results on test dataset results.\n",
    "Models have aproximately 86% accuracy on test dataset.\n",
    "\n",
    "Results are simlar to achived in laboratory 6. \n",
    "\n"
   ]
  }
 ],
 "metadata": {
  "kernelspec": {
   "display_name": "Python 3",
   "language": "python",
   "name": "python3"
  },
  "language_info": {
   "codemirror_mode": {
    "name": "ipython",
    "version": 3
   },
   "file_extension": ".py",
   "mimetype": "text/x-python",
   "name": "python",
   "nbconvert_exporter": "python",
   "pygments_lexer": "ipython3",
   "version": "3.8.8"
  }
 },
 "nbformat": 4,
 "nbformat_minor": 5
}
